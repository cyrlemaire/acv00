{
 "cells": [
  {
   "cell_type": "markdown",
   "metadata": {},
   "source": [
    "# 2.2 Coalition or Sum: numerical comparisons\n",
    "## 2.2.2 CENSUS INCOME DATA (Reproduction of figure 3)"
   ]
  },
  {
   "cell_type": "code",
   "execution_count": 1,
   "metadata": {},
   "outputs": [],
   "source": [
    "import warnings\n",
    "warnings.filterwarnings('ignore')\n",
    "\n",
    "from acv_explainers import ACVTree\n",
    "import shap"
   ]
  },
  {
   "cell_type": "code",
   "execution_count": 18,
   "metadata": {},
   "outputs": [],
   "source": [
    "\n",
    "from sklearn.preprocessing import OneHotEncoder\n",
    "from sklearn.model_selection import train_test_split\n",
    "from sklearn.ensemble import RandomForestClassifier\n",
    "from sklearn.tree import DecisionTreeClassifier\n",
    "from sklearn.metrics import roc_auc_score"
   ]
  },
  {
   "cell_type": "code",
   "execution_count": 12,
   "metadata": {},
   "outputs": [],
   "source": [
    "import random \n",
    "import numpy as np\n",
    "import pandas as pd\n",
    "# from sklearn.tree import DecisionTreeClassifier\n",
    "random.seed(2021)\n",
    "np.random.seed(2021)"
   ]
  },
  {
   "cell_type": "markdown",
   "metadata": {},
   "source": [
    "## Load data"
   ]
  },
  {
   "cell_type": "code",
   "execution_count": 13,
   "metadata": {},
   "outputs": [],
   "source": [
    "X, y = shap.datasets.adult()\n",
    "X_display, y_display = shap.datasets.adult(display=True)\n",
    "num_features = X.shape[1]\n",
    "\n",
    "X =  pd.concat([X, \n",
    "                    pd.get_dummies(X['Workclass'], prefix='work'), pd.get_dummies(X['Marital Status'], prefix='status'), \n",
    "                    pd.get_dummies(X['Race'], prefix='race'), pd.get_dummies(X['Education-Num'], prefix='education')], axis=1)\n",
    "\n",
    "X.drop(['Workclass', 'Education-Num', 'Marital Status', 'Occupation',\n",
    "       'Relationship', 'Race', 'Sex', 'Capital Loss',\n",
    "       'Hours per week', 'Country', 'Age', 'Capital Gain'], axis=1, inplace=True)\n",
    "# Split data\n",
    "X_train, X_test, y_train, y_test = train_test_split(X, y, test_size=0.4, random_state=7)"
   ]
  },
  {
   "cell_type": "code",
   "execution_count": 14,
   "metadata": {},
   "outputs": [
    {
     "data": {
      "text/html": [
       "<div>\n",
       "<style scoped>\n",
       "    .dataframe tbody tr th:only-of-type {\n",
       "        vertical-align: middle;\n",
       "    }\n",
       "\n",
       "    .dataframe tbody tr th {\n",
       "        vertical-align: top;\n",
       "    }\n",
       "\n",
       "    .dataframe thead th {\n",
       "        text-align: right;\n",
       "    }\n",
       "</style>\n",
       "<table border=\"1\" class=\"dataframe\">\n",
       "  <thead>\n",
       "    <tr style=\"text-align: right;\">\n",
       "      <th></th>\n",
       "      <th>work_0</th>\n",
       "      <th>work_1</th>\n",
       "      <th>work_2</th>\n",
       "      <th>work_3</th>\n",
       "      <th>work_4</th>\n",
       "      <th>work_5</th>\n",
       "      <th>work_6</th>\n",
       "      <th>work_7</th>\n",
       "      <th>work_8</th>\n",
       "      <th>status_0</th>\n",
       "      <th>status_1</th>\n",
       "      <th>status_2</th>\n",
       "      <th>status_3</th>\n",
       "      <th>status_4</th>\n",
       "      <th>status_5</th>\n",
       "      <th>status_6</th>\n",
       "      <th>race_0</th>\n",
       "      <th>race_1</th>\n",
       "      <th>race_2</th>\n",
       "      <th>race_3</th>\n",
       "      <th>race_4</th>\n",
       "      <th>education_1.0</th>\n",
       "      <th>education_2.0</th>\n",
       "      <th>education_3.0</th>\n",
       "      <th>education_4.0</th>\n",
       "      <th>education_5.0</th>\n",
       "      <th>education_6.0</th>\n",
       "      <th>education_7.0</th>\n",
       "      <th>education_8.0</th>\n",
       "      <th>education_9.0</th>\n",
       "      <th>education_10.0</th>\n",
       "      <th>education_11.0</th>\n",
       "      <th>education_12.0</th>\n",
       "      <th>education_13.0</th>\n",
       "      <th>education_14.0</th>\n",
       "      <th>education_15.0</th>\n",
       "      <th>education_16.0</th>\n",
       "    </tr>\n",
       "  </thead>\n",
       "  <tbody>\n",
       "    <tr>\n",
       "      <th>936</th>\n",
       "      <td>0</td>\n",
       "      <td>0</td>\n",
       "      <td>0</td>\n",
       "      <td>0</td>\n",
       "      <td>1</td>\n",
       "      <td>0</td>\n",
       "      <td>0</td>\n",
       "      <td>0</td>\n",
       "      <td>0</td>\n",
       "      <td>0</td>\n",
       "      <td>0</td>\n",
       "      <td>0</td>\n",
       "      <td>0</td>\n",
       "      <td>1</td>\n",
       "      <td>0</td>\n",
       "      <td>0</td>\n",
       "      <td>0</td>\n",
       "      <td>0</td>\n",
       "      <td>0</td>\n",
       "      <td>0</td>\n",
       "      <td>1</td>\n",
       "      <td>0</td>\n",
       "      <td>0</td>\n",
       "      <td>0</td>\n",
       "      <td>0</td>\n",
       "      <td>0</td>\n",
       "      <td>0</td>\n",
       "      <td>0</td>\n",
       "      <td>0</td>\n",
       "      <td>0</td>\n",
       "      <td>0</td>\n",
       "      <td>0</td>\n",
       "      <td>0</td>\n",
       "      <td>0</td>\n",
       "      <td>1</td>\n",
       "      <td>0</td>\n",
       "      <td>0</td>\n",
       "    </tr>\n",
       "    <tr>\n",
       "      <th>13780</th>\n",
       "      <td>0</td>\n",
       "      <td>0</td>\n",
       "      <td>0</td>\n",
       "      <td>0</td>\n",
       "      <td>1</td>\n",
       "      <td>0</td>\n",
       "      <td>0</td>\n",
       "      <td>0</td>\n",
       "      <td>0</td>\n",
       "      <td>0</td>\n",
       "      <td>0</td>\n",
       "      <td>0</td>\n",
       "      <td>0</td>\n",
       "      <td>1</td>\n",
       "      <td>0</td>\n",
       "      <td>0</td>\n",
       "      <td>0</td>\n",
       "      <td>1</td>\n",
       "      <td>0</td>\n",
       "      <td>0</td>\n",
       "      <td>0</td>\n",
       "      <td>0</td>\n",
       "      <td>0</td>\n",
       "      <td>0</td>\n",
       "      <td>0</td>\n",
       "      <td>0</td>\n",
       "      <td>0</td>\n",
       "      <td>0</td>\n",
       "      <td>0</td>\n",
       "      <td>0</td>\n",
       "      <td>0</td>\n",
       "      <td>0</td>\n",
       "      <td>0</td>\n",
       "      <td>1</td>\n",
       "      <td>0</td>\n",
       "      <td>0</td>\n",
       "      <td>0</td>\n",
       "    </tr>\n",
       "    <tr>\n",
       "      <th>20164</th>\n",
       "      <td>0</td>\n",
       "      <td>0</td>\n",
       "      <td>0</td>\n",
       "      <td>0</td>\n",
       "      <td>1</td>\n",
       "      <td>0</td>\n",
       "      <td>0</td>\n",
       "      <td>0</td>\n",
       "      <td>0</td>\n",
       "      <td>0</td>\n",
       "      <td>0</td>\n",
       "      <td>1</td>\n",
       "      <td>0</td>\n",
       "      <td>0</td>\n",
       "      <td>0</td>\n",
       "      <td>0</td>\n",
       "      <td>0</td>\n",
       "      <td>0</td>\n",
       "      <td>0</td>\n",
       "      <td>0</td>\n",
       "      <td>1</td>\n",
       "      <td>0</td>\n",
       "      <td>0</td>\n",
       "      <td>0</td>\n",
       "      <td>0</td>\n",
       "      <td>0</td>\n",
       "      <td>0</td>\n",
       "      <td>0</td>\n",
       "      <td>0</td>\n",
       "      <td>0</td>\n",
       "      <td>1</td>\n",
       "      <td>0</td>\n",
       "      <td>0</td>\n",
       "      <td>0</td>\n",
       "      <td>0</td>\n",
       "      <td>0</td>\n",
       "      <td>0</td>\n",
       "    </tr>\n",
       "    <tr>\n",
       "      <th>29844</th>\n",
       "      <td>0</td>\n",
       "      <td>0</td>\n",
       "      <td>0</td>\n",
       "      <td>0</td>\n",
       "      <td>1</td>\n",
       "      <td>0</td>\n",
       "      <td>0</td>\n",
       "      <td>0</td>\n",
       "      <td>0</td>\n",
       "      <td>0</td>\n",
       "      <td>0</td>\n",
       "      <td>0</td>\n",
       "      <td>0</td>\n",
       "      <td>1</td>\n",
       "      <td>0</td>\n",
       "      <td>0</td>\n",
       "      <td>0</td>\n",
       "      <td>0</td>\n",
       "      <td>0</td>\n",
       "      <td>0</td>\n",
       "      <td>1</td>\n",
       "      <td>0</td>\n",
       "      <td>0</td>\n",
       "      <td>0</td>\n",
       "      <td>0</td>\n",
       "      <td>0</td>\n",
       "      <td>0</td>\n",
       "      <td>0</td>\n",
       "      <td>0</td>\n",
       "      <td>1</td>\n",
       "      <td>0</td>\n",
       "      <td>0</td>\n",
       "      <td>0</td>\n",
       "      <td>0</td>\n",
       "      <td>0</td>\n",
       "      <td>0</td>\n",
       "      <td>0</td>\n",
       "    </tr>\n",
       "    <tr>\n",
       "      <th>2235</th>\n",
       "      <td>0</td>\n",
       "      <td>0</td>\n",
       "      <td>0</td>\n",
       "      <td>0</td>\n",
       "      <td>1</td>\n",
       "      <td>0</td>\n",
       "      <td>0</td>\n",
       "      <td>0</td>\n",
       "      <td>0</td>\n",
       "      <td>1</td>\n",
       "      <td>0</td>\n",
       "      <td>0</td>\n",
       "      <td>0</td>\n",
       "      <td>0</td>\n",
       "      <td>0</td>\n",
       "      <td>0</td>\n",
       "      <td>0</td>\n",
       "      <td>0</td>\n",
       "      <td>0</td>\n",
       "      <td>0</td>\n",
       "      <td>1</td>\n",
       "      <td>0</td>\n",
       "      <td>0</td>\n",
       "      <td>0</td>\n",
       "      <td>0</td>\n",
       "      <td>0</td>\n",
       "      <td>0</td>\n",
       "      <td>0</td>\n",
       "      <td>0</td>\n",
       "      <td>0</td>\n",
       "      <td>0</td>\n",
       "      <td>1</td>\n",
       "      <td>0</td>\n",
       "      <td>0</td>\n",
       "      <td>0</td>\n",
       "      <td>0</td>\n",
       "      <td>0</td>\n",
       "    </tr>\n",
       "  </tbody>\n",
       "</table>\n",
       "</div>"
      ],
      "text/plain": [
       "       work_0  work_1  work_2  ...  education_14.0  education_15.0  education_16.0\n",
       "936         0       0       0  ...               1               0               0\n",
       "13780       0       0       0  ...               0               0               0\n",
       "20164       0       0       0  ...               0               0               0\n",
       "29844       0       0       0  ...               0               0               0\n",
       "2235        0       0       0  ...               0               0               0\n",
       "\n",
       "[5 rows x 37 columns]"
      ]
     },
     "execution_count": 14,
     "metadata": {},
     "output_type": "execute_result"
    }
   ],
   "source": [
    "X_train.head()"
   ]
  },
  {
   "cell_type": "code",
   "execution_count": 15,
   "metadata": {},
   "outputs": [],
   "source": [
    "# size = 2"
   ]
  },
  {
   "cell_type": "code",
   "execution_count": 16,
   "metadata": {},
   "outputs": [],
   "source": [
    "# index of the dummies variables\n",
    "\n",
    "index_dummies_relation = [i for i in range(X_train.shape[1]) if 'relation' in X_train.columns[i]]\n",
    "index_dummies_work = [i for i in range(X_train.shape[1]) if 'work' in X_train.columns[i]]\n",
    "index_dummies_status = [i for i in range(X_train.shape[1]) if 'status' in X_train.columns[i]]\n",
    "index_dummies_race = [i for i in range(X_train.shape[1]) if 'race' in X_train.columns[i]]\n",
    "index_dummies_education = [i for i in range(X_train.shape[1]) if 'education' in X_train.columns[i]]\n",
    "\n",
    "C = [index_dummies_work, index_dummies_status, index_dummies_race, index_dummies_education]"
   ]
  },
  {
   "cell_type": "code",
   "execution_count": null,
   "metadata": {},
   "outputs": [],
   "source": [
    "# Model training \n",
    "\n",
    "tree = DecisionTreeClassifier(min_samples_leaf=25, max_depth=15, max_features=10, random_state=700)\n",
    "tree.fit(X_train, y_train)\n",
    "\n",
    "forest = RandomForestClassifier(n_estimators=10, max_features=10, max_depth=15, min_samples_leaf=40, random_state=2021)\n",
    "forest.fit(X_train, y_train)\n",
    "\n",
    "error_train = roc_auc_score(y_train, forest.predict_proba(X_train)[:, 1])\n",
    "error_test = roc_auc_score(y_test, forest.predict_proba(X_test)[:, 1])\n",
    "print('[* FOREST *]')\n",
    "print('train err = {} --- test err = {}'.format(error_train, error_test))\n",
    "\n",
    "error_train = roc_auc_score(y_train, tree.predict_proba(X_train)[:, 1])\n",
    "error_test = roc_auc_score(y_test, tree.predict_proba(X_test)[:, 1])\n",
    "print('[* TREE *]')\n",
    "print('train err = {} --- test err = {}'.format(error_train, error_test))"
   ]
  },
  {
   "cell_type": "markdown",
   "metadata": {},
   "source": [
    "## Comparisons of Global SV with Coalition or SUM"
   ]
  },
  {
   "cell_type": "code",
   "execution_count": 9,
   "metadata": {},
   "outputs": [
    {
     "name": "stderr",
     "output_type": "stream",
     "text": [
      "100%|██████████| 5000/5000 [04:34<00:00, 18.24it/s]\n"
     ]
    }
   ],
   "source": [
    "# Computation of SV with Coalition\n",
    "\n",
    "nb = 5000\n",
    "shap_coal = []\n",
    "for x in tqdm(X_train.values[:nb]):\n",
    "    shap_coal.append(tree_shap_clf(tree=tree, x=x, algo='shap', data=X_train.values, \n",
    "                               C=C)[:, 1])\n",
    "    \n",
    "shap_coal = np.array(shap_coal)\n",
    "mean_shap_coal = np.mean(np.abs(shap_coal), axis=0)"
   ]
  },
  {
   "cell_type": "code",
   "execution_count": 10,
   "metadata": {},
   "outputs": [],
   "source": [
    "# Computation of SV with SUM\n",
    "\n",
    "explainer = shap.TreeExplainer(tree, feature_perturbation='observational')\n",
    "shap_values = explainer.shap_values(X_train.values[:nb])[1]\n",
    "shap_sum = shap_values\n",
    "\n",
    "for c in C:\n",
    "    cat_va = np.sum(shap_sum[:, c], axis=1)\n",
    "    for c_i in c:\n",
    "        shap_sum[:, c_i] = cat_va\n",
    "\n",
    "mean_shap_sum = np.mean(np.abs(shap_sum), axis=0)"
   ]
  },
  {
   "cell_type": "code",
   "execution_count": 11,
   "metadata": {},
   "outputs": [],
   "source": [
    "# Proportion of order inversion \n",
    "\n",
    "err_sort_ind = []\n",
    "err_sign_ind = []\n",
    "index_inversion = []\n",
    "for i in range(nb):\n",
    "    coal_sort = np.argsort(np.abs(shap_coal[i]))\n",
    "    sum_sort = np.argsort(np.abs(shap_sum[i]))\n",
    "    \n",
    "    err_sort = (np.sum(coal_sort != sum_sort) >= 2)\n",
    "    if err_sort != 0:\n",
    "        index_inversion.append(i)\n",
    "    err_sign = np.sum(np.sign(shap_coal[i]) * np.sign(shap_sum[i]) != 1)\n",
    "    \n",
    "    err_sort_ind.append(err_sort)\n",
    "    err_sign_ind.append(err_sign)"
   ]
  },
  {
   "cell_type": "code",
   "execution_count": 12,
   "metadata": {},
   "outputs": [
    {
     "data": {
      "text/plain": [
       "514"
      ]
     },
     "execution_count": 12,
     "metadata": {},
     "output_type": "execute_result"
    }
   ],
   "source": [
    "np.sum(err_sort_ind)"
   ]
  },
  {
   "cell_type": "code",
   "execution_count": 13,
   "metadata": {},
   "outputs": [
    {
     "data": {
      "image/png": "[encoded data removed]",
      "text/plain": [
       "<Figure size 1500x1000 with 1 Axes>"
      ]
     },
     "metadata": {
      "needs_background": "light"
     },
     "output_type": "display_data"
    }
   ],
   "source": [
    "labels = ['inversion order', 'same order']\n",
    "x = np.arange(1)  # the label locations\n",
    "width = 2  # the width of the bars\n",
    "\n",
    "fig, ax = plt.subplots(dpi=250)\n",
    "rects1 = ax.bar(x - width/2, np.sum(err_sort_ind)/nb, width, label = labels[0])\n",
    "rects2 = ax.bar(x + width/2, 1-(np.sum(err_sort_ind)/nb), width, label = labels[1])\n",
    "\n",
    "# Add some text for labels, title and custom x-axis tick labels, etc.\n",
    "ax.set_ylabel('')\n",
    "# ax.set_title('Scores by group and gender')\n",
    "ax.set_xticks(x)\n",
    "# ax.set_xticklabels(labels)\n",
    "ax.legend()\n",
    "\n",
    "\n",
    "def autolabel(rects):\n",
    "    \"\"\"Attach a text label above each bar in *rects*, displaying its height.\"\"\"\n",
    "    for rect in rects:\n",
    "        height = rect.get_height()\n",
    "        ax.annotate('{}'.format(height),\n",
    "                    xy=(rect.get_x() + rect.get_width() / 2, height),\n",
    "                    xytext=(0, 3),  # 3 points vertical offset\n",
    "                    textcoords=\"offset points\",\n",
    "                    ha='center', va='bottom', color='black')\n",
    "\n",
    "\n",
    "autolabel(rects1)\n",
    "autolabel(rects2)\n",
    "\n",
    "fig.tight_layout()\n",
    "\n",
    "plt.show()\n"
   ]
  },
  {
   "cell_type": "code",
   "execution_count": 14,
   "metadata": {},
   "outputs": [],
   "source": [
    "# m_shap_coal = np.concatenate([mean_shap_coal[:size], [mean_shap_coal[c][0] for c in C]], axis=0)\n",
    "# m_shap_sum = np.concatenate([mean_shap_sum[:size], [mean_shap_sum[c][0] for c in C]], axis=0)\n",
    "\n",
    "m_shap_coal = [mean_shap_coal[c][0] for c in C]\n",
    "m_shap_sum = [mean_shap_sum[c][0] for c in C]"
   ]
  },
  {
   "cell_type": "code",
   "execution_count": 15,
   "metadata": {},
   "outputs": [],
   "source": [
    "def plot_feature_importance(importance, names, title, xlabel='SHAP values'):\n",
    "\n",
    "    #Create arrays from feature importance and feature names\n",
    "    feature_importance = np.array(importance)\n",
    "    feature_names = np.array(names)\n",
    "    seaborn_colors = sns.color_palette(\"tab10\")\n",
    "    colors = {names[i]: seaborn_colors[i] for i in range(len(names))}\n",
    "\n",
    "    #Create a DataFrame using a Dictionary\n",
    "    data={'feature_names':feature_names,'feature_importance':feature_importance}\n",
    "    fi_df = pd.DataFrame(data)\n",
    "\n",
    "    #Sort the DataFrame in order decreasing feature importance\n",
    "    fi_df.sort_values(by=['feature_importance'], ascending=False, inplace=True)\n",
    "\n",
    "    #Define size of bar plot\n",
    "    plt.figure(figsize=(10,8))\n",
    "    #Plot Searborn bar chart\n",
    "    sns.set(font_scale=1.5) \n",
    "    sns.barplot(x=fi_df['feature_importance'], y=fi_df['feature_names'], palette=colors)\n",
    "    #Add chart labels\n",
    "    plt.title(title)\n",
    "    plt.xlabel(xlabel)\n",
    "    plt.ylabel('FEATURE NAMES')\n"
   ]
  },
  {
   "cell_type": "code",
   "execution_count": 16,
   "metadata": {},
   "outputs": [],
   "source": [
    "columns_names = ['Workclass', 'Marital Status', 'Race', 'Education'] \n",
    "\n",
    "# plot_feature_importance(m_shap_coal, columns_names, 'mean absolute SHAP coal ')\n",
    "# plot_feature_importance(m_shap_sum, columns_names, 'mean absolute SHAP SUM ')"
   ]
  },
  {
   "cell_type": "code",
   "execution_count": 17,
   "metadata": {},
   "outputs": [
    {
     "data": {
      "image/png": "[encoded data removed]",
      "text/plain": [
       "<Figure size 720x576 with 1 Axes>"
      ]
     },
     "metadata": {
      "needs_background": "light"
     },
     "output_type": "display_data"
    }
   ],
   "source": [
    "plt.rcParams[\"font.weight\"] = \"bold\"\n",
    "\n",
    "idx = index_inversion[np.random.randint(0, len(index_inversion))]\n",
    "idx = 4984\n",
    "m_shap_coal = [shap_coal[idx, c][0] for c in C]\n",
    "m_forest_sum = [shap_sum[idx, c][0] for c in C]\n",
    "\n",
    "plot_feature_importance(np.abs(m_forest_sum), columns_names, 'mean absolute SHAP SUM ')"
   ]
  },
  {
   "cell_type": "markdown",
   "metadata": {},
   "source": [
    "### Figure 4: The left figure, SV with sum of the dummies variables"
   ]
  },
  {
   "cell_type": "code",
   "execution_count": 18,
   "metadata": {},
   "outputs": [
    {
     "data": {
      "image/png": "[encoded data removed]",
      "text/plain": [
       "<Figure size 720x576 with 1 Axes>"
      ]
     },
     "metadata": {},
     "output_type": "display_data"
    }
   ],
   "source": [
    "plot_feature_importance(np.abs(m_shap_coal), columns_names, 'mean absolute SHAP COAL ')"
   ]
  },
  {
   "cell_type": "markdown",
   "metadata": {},
   "source": [
    "### Figure 4: The right figure, SV with coalition of the dummies variables"
   ]
  }
 ],
 "metadata": {
  "kernelspec": {
   "display_name": "Python 3",
   "language": "python",
   "name": "python3"
  },
  "language_info": {
   "codemirror_mode": {
    "name": "ipython",
    "version": 3
   },
   "file_extension": ".py",
   "mimetype": "text/x-python",
   "name": "python",
   "nbconvert_exporter": "python",
   "pygments_lexer": "ipython3",
   "version": "3.8.5"
  }
 },
 "nbformat": 4,
 "nbformat_minor": 4
}
