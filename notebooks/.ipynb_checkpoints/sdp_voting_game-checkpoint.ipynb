{
 "cells": [
  {
   "cell_type": "code",
   "execution_count": 190,
   "metadata": {},
   "outputs": [],
   "source": [
    "import os \n",
    "os.chdir('/home/samoukou/Documents/shap-explainer')"
   ]
  },
  {
   "cell_type": "code",
   "execution_count": 191,
   "metadata": {},
   "outputs": [],
   "source": [
    "from acv_tools import *\n",
    "from utils import *\n",
    "# from sklearn.model_selection import train_test_split"
   ]
  },
  {
   "cell_type": "code",
   "execution_count": 192,
   "metadata": {},
   "outputs": [],
   "source": [
    "import random \n",
    "# from sklearn.tree import DecisionTreeClassifier\n",
    "random.seed(212)\n",
    "np.random.seed(212)"
   ]
  },
  {
   "cell_type": "markdown",
   "metadata": {},
   "source": [
    "### Load data and model"
   ]
  },
  {
   "cell_type": "code",
   "execution_count": 196,
   "metadata": {},
   "outputs": [
    {
     "name": "stdout",
     "output_type": "stream",
     "text": [
      "[* TREE *]\n",
      "train acc = 0.9230919439227646 --- test acc = 0.9127666666666667\n",
      "[* FOREST *]\n",
      "train acc = 0.9230919439227646 --- test acc = 0.9127666666666667\n"
     ]
    }
   ],
   "source": [
    "X = pd.read_csv('/home/samoukou/Documents/shap-explainer/data/lucas0_train.csv')\n",
    "X.head()\n",
    "\n",
    "y = X.Lung_cancer.values\n",
    "X.drop(['Lung_cancer'], axis=1, inplace=True)\n",
    "\n",
    "n_estimators = 1\n",
    "num_features = X.shape[1]\n",
    "\n",
    "# Split data\n",
    "X_train, X_test, y_train, y_test = train_test_split(X, y, test_size=0.2, random_state=21)\n",
    "\n",
    "# Model \n",
    "tree = DecisionTreeClassifier(min_samples_leaf=20, random_state=212)\n",
    "tree.fit(X_train, y_train)\n",
    "\n",
    "accuracy_train = roc_auc_score(y_train, tree.predict_proba(X_train)[:, 1])\n",
    "accuracy_test = roc_auc_score(y_test, tree.predict_proba(X_test)[:, 1])\n",
    "print('[* TREE *]')\n",
    "print('train acc = {} --- test acc = {}'.format(accuracy_train, accuracy_test))\n",
    "\n",
    "forest = RandomForestClassifier(n_estimators=n_estimators, min_samples_leaf=10, random_state=212)\n",
    "forest.fit(X_train, y_train)\n",
    "forest.estimators_[0] = tree\n",
    "\n",
    "accuracy_train = roc_auc_score(y_train, forest.predict_proba(X_train)[:, 1])\n",
    "accuracy_test = roc_auc_score(y_test, forest.predict_proba(X_test)[:, 1])\n",
    "print('[* FOREST *]')\n",
    "print('train acc = {} --- test acc = {}'.format(accuracy_train, accuracy_test))"
   ]
  },
  {
   "cell_type": "markdown",
   "metadata": {},
   "source": [
    "## Build ACVTree for explanations"
   ]
  },
  {
   "cell_type": "code",
   "execution_count": 35,
   "metadata": {},
   "outputs": [],
   "source": [
    "acvtree = ACVTree(forest, X_train.values)"
   ]
  },
  {
   "cell_type": "markdown",
   "metadata": {},
   "source": [
    "### Let's choose an observation to explain"
   ]
  },
  {
   "cell_type": "code",
   "execution_count": 315,
   "metadata": {},
   "outputs": [],
   "source": [
    "idx = np.random.randint(0, 400)\n",
    "# idx = 174\n",
    "ind = X_test.values[idx]\n",
    "y_ind = y_test[idx]\n",
    "fx = forest.predict(np.expand_dims(ind, 0))[0]"
   ]
  },
  {
   "cell_type": "code",
   "execution_count": 316,
   "metadata": {},
   "outputs": [],
   "source": [
    "# idx = np.random.randint(0, 400)\n",
    "# ind = X_test.values[idx]\n",
    "# y_ind = y_test[idx]\n",
    "# fx = forest.predict(np.expand_dims(ind, 0))[0]"
   ]
  },
  {
   "cell_type": "code",
   "execution_count": 317,
   "metadata": {},
   "outputs": [
    {
     "data": {
      "text/html": [
       "<div>\n",
       "<style scoped>\n",
       "    .dataframe tbody tr th:only-of-type {\n",
       "        vertical-align: middle;\n",
       "    }\n",
       "\n",
       "    .dataframe tbody tr th {\n",
       "        vertical-align: top;\n",
       "    }\n",
       "\n",
       "    .dataframe thead th {\n",
       "        text-align: right;\n",
       "    }\n",
       "</style>\n",
       "<table border=\"1\" class=\"dataframe\">\n",
       "  <thead>\n",
       "    <tr style=\"text-align: right;\">\n",
       "      <th></th>\n",
       "      <th>Smoking</th>\n",
       "      <th>Yellow_Fingers</th>\n",
       "      <th>Anxiety</th>\n",
       "      <th>Peer_Pressure</th>\n",
       "      <th>Genetics</th>\n",
       "      <th>Attention_Disorder</th>\n",
       "      <th>Born_an_Even_Day</th>\n",
       "      <th>Car_Accident</th>\n",
       "      <th>Fatigue</th>\n",
       "      <th>Allergy</th>\n",
       "      <th>Coughing</th>\n",
       "    </tr>\n",
       "  </thead>\n",
       "  <tbody>\n",
       "    <tr>\n",
       "      <th>1236</th>\n",
       "      <td>0</td>\n",
       "      <td>0</td>\n",
       "      <td>0</td>\n",
       "      <td>0</td>\n",
       "      <td>0</td>\n",
       "      <td>1</td>\n",
       "      <td>0</td>\n",
       "      <td>1</td>\n",
       "      <td>1</td>\n",
       "      <td>1</td>\n",
       "      <td>1</td>\n",
       "    </tr>\n",
       "  </tbody>\n",
       "</table>\n",
       "</div>"
      ],
      "text/plain": [
       "      Smoking  Yellow_Fingers  Anxiety  Peer_Pressure  Genetics  \\\n",
       "1236        0               0        0              0         0   \n",
       "\n",
       "      Attention_Disorder  Born_an_Even_Day  Car_Accident  Fatigue  Allergy  \\\n",
       "1236                   1                 0             1        1        1   \n",
       "\n",
       "      Coughing  \n",
       "1236         1  "
      ]
     },
     "execution_count": 317,
     "metadata": {},
     "output_type": "execute_result"
    }
   ],
   "source": [
    "X_test[idx:idx+1]"
   ]
  },
  {
   "cell_type": "code",
   "execution_count": 318,
   "metadata": {},
   "outputs": [
    {
     "name": "stdout",
     "output_type": "stream",
     "text": [
      "f(x) = 0, y_ind = 0\n"
     ]
    }
   ],
   "source": [
    "print('f(x) = {}, y_ind = {}'.format(fx, y_ind))"
   ]
  },
  {
   "cell_type": "code",
   "execution_count": 319,
   "metadata": {},
   "outputs": [],
   "source": [
    "from scipy.special import comb\n",
    "\n",
    "def powerset(iterable):\n",
    "    s = list(iterable)\n",
    "    return itertools.chain.from_iterable(itertools.combinations(s, r) for r in range(len(s) + 1))\n",
    "\n",
    "from scipy.special import comb\n",
    "\n",
    "def vote_exp_clf(x, fx, tx, pi, forest, S, data, algo=\"plugin\"):\n",
    "    if len(S) == 0:\n",
    "        return 0\n",
    "    sdp = cond_sdp_forest_clf(x, fx, tx, forest, S, data=data, algo=algo)\n",
    "    return int(sdp >= pi)\n",
    "\n",
    "\n",
    "def tree_shap_vote_clf(tree, x,  tx, fx, pi, algo, data=None, C=[[]]):\n",
    "    \"\"\"\n",
    "    Compute Classic Shapley values of a tree_classifier of x\n",
    "\n",
    "    Args:\n",
    "        tree (DecisionTreeClassifier):\n",
    "        x (array): observation\n",
    "        algo (string): name of the estimators, recommended 'plugin'\n",
    "        data (array): data used to compute the Shapley values\n",
    "        C (list[list]): list of the different coalition of variables by their index\n",
    "\n",
    "    Returns:\n",
    "        array: Shapley values of x\n",
    "    \"\"\"\n",
    "    m = len(x)\n",
    "    va_id = list(range(m))\n",
    "    va_id_buffer = va_id.copy()\n",
    "\n",
    "    if C[0] != []:\n",
    "        for c in C:\n",
    "            m -= len(c)\n",
    "            va_id = list(set(va_id) - set(c))\n",
    "        m += len(C)\n",
    "        for c in C:\n",
    "            va_id += [c]\n",
    "\n",
    "    phi = np.zeros(len(x))\n",
    "    \n",
    "    for i in va_id:\n",
    "        if C[0] != []:\n",
    "            Sm = list(set(va_id_buffer) - set(convert_list(i)))\n",
    "            for c in C:\n",
    "                if c != convert_list(i):\n",
    "                    Sm = list(set(Sm) - set(c))\n",
    "            for c in C:\n",
    "                if c != convert_list(i):\n",
    "                    Sm += [c]\n",
    "        else:\n",
    "            Sm = list(set(va_id_buffer) - set(convert_list(i)))\n",
    "\n",
    "        for S in tqdm(powerset(Sm)):\n",
    "            phi[chain_l(i)] +=\\\n",
    "                comb(m-1, len(S))**(-1)*(vote_exp_clf(x=x, fx=fx, tx=tx, pi=pi, forest=tree, S=chain_l(S)+convert_list(i), data=data, algo=algo) - \\\n",
    "                vote_exp_clf(x=x, fx=fx, tx=tx, pi=pi, forest=tree, S=chain_l(S), data=data, algo=algo))\n",
    "    return phi/m\n",
    "            \n",
    "#     for p in tqdm(itertools.permutations(va_id)):\n",
    "#         for i in range(m):\n",
    "#             phi[chain_l(p[i])] += \\\n",
    "#                 vote_exp(x=x, fx=fx, tx=tx, pi=pi, forest=tree, S=chain_l(p[:i+1]), data=data, algo=algo) - \\\n",
    "#                 vote_exp(x=x, fx=fx, tx=tx, pi=pi, forest=tree, S=chain_l(p[:i]), data=data, algo=algo)\n",
    "#     return phi / math.factorial(m)"
   ]
  },
  {
   "cell_type": "code",
   "execution_count": 322,
   "metadata": {},
   "outputs": [
    {
     "name": "stderr",
     "output_type": "stream",
     "text": [
      "1024it [00:09, 102.95it/s]\n",
      "1024it [00:10, 100.57it/s]\n",
      "1024it [00:09, 102.68it/s]\n",
      "1024it [00:09, 102.45it/s]\n",
      "1024it [00:10, 99.14it/s] \n",
      "1024it [00:09, 102.75it/s]\n",
      "1024it [00:09, 104.60it/s]\n",
      "1024it [00:09, 104.02it/s]\n",
      "1024it [00:09, 104.36it/s]\n",
      "1024it [00:09, 104.61it/s]\n",
      "1024it [00:09, 106.62it/s]\n"
     ]
    },
    {
     "data": {
      "text/plain": [
       "array([0.33333333, 0.        , 0.        , 0.        , 0.33333333,\n",
       "       0.        , 0.        , 0.        , 0.        , 0.33333333,\n",
       "       0.        ])"
      ]
     },
     "execution_count": 322,
     "metadata": {},
     "output_type": "execute_result"
    }
   ],
   "source": [
    "pis = []\n",
    "sv = tree_shap_vote_clf(forest, x=ind, tx=0.5, fx=fx, pi=0.95, algo='plugin', data=X_train.values, C=[[]])\n",
    "sv"
   ]
  },
  {
   "cell_type": "markdown",
   "metadata": {},
   "source": [
    "### Find $S^\\star$"
   ]
  },
  {
   "cell_type": "code",
   "execution_count": 320,
   "metadata": {},
   "outputs": [
    {
     "name": "stderr",
     "output_type": "stream",
     "text": [
      "  0%|          | 0/11 [00:00<?, ?it/s]\n",
      "1it [00:00, 11125.47it/s]\n",
      "\n",
      "0it [00:00, ?it/s]\u001b[A\n",
      "10it [00:00, 98.10it/s]\u001b[A\n",
      " 18%|█▊        | 2/11 [00:00<00:00, 18.94it/s]\n",
      "0it [00:00, ?it/s]\u001b[A\n",
      "14it [00:00, 130.05it/s]\u001b[A\n",
      "25it [00:00, 122.94it/s]\u001b[A\n",
      "45it [00:00, 117.24it/s]\u001b[A\n",
      " 27%|██▋       | 3/11 [00:00<00:01,  6.55it/s]\n",
      "0it [00:00, ?it/s]\u001b[A\n",
      "19it [00:00, 188.01it/s]\u001b[A\n",
      "39it [00:00, 186.29it/s]\u001b[A\n",
      "50it [00:00, 148.58it/s]\u001b[A\n",
      "61it [00:00, 133.63it/s]\u001b[A\n",
      "73it [00:00, 128.91it/s]\u001b[A\n",
      "87it [00:00, 130.49it/s]\u001b[A\n",
      "100it [00:00, 130.18it/s]\u001b[A\n",
      "120it [00:00, 132.39it/s]\u001b[A\n",
      " 27%|██▋       | 3/11 [00:01<00:03,  2.14it/s]\n",
      "  0%|          | 0/8 [00:00<?, ?it/s]\n",
      "1it [00:00, 34100.03it/s]\n",
      "\n",
      "7it [00:00, 95.97it/s]\n",
      "\n",
      "0it [00:00, ?it/s]\u001b[A\n",
      "21it [00:00, 109.50it/s]\u001b[A\n",
      " 38%|███▊      | 3/8 [00:00<00:00, 11.17it/s]\n",
      "0it [00:00, ?it/s]\u001b[A\n",
      "11it [00:00, 109.91it/s]\u001b[A\n",
      "35it [00:00, 124.31it/s]\u001b[A\n",
      " 50%|█████     | 4/8 [00:00<00:00,  6.78it/s]\n",
      "0it [00:00, ?it/s]\u001b[A\n",
      "14it [00:00, 131.29it/s]\u001b[A\n",
      "35it [00:00, 141.35it/s]\u001b[A\n",
      " 62%|██████▎   | 5/8 [00:00<00:00,  5.61it/s]\n",
      "0it [00:00, ?it/s]\u001b[A\n",
      "21it [00:00, 149.22it/s]\u001b[A\n",
      " 75%|███████▌  | 6/8 [00:00<00:00,  5.97it/s]\n",
      "7it [00:00, 168.99it/s]\n",
      "\n",
      "1it [00:00, 187.51it/s]\n",
      "100%|██████████| 8/8 [00:00<00:00,  8.05it/s]\n"
     ]
    },
    {
     "name": "stdout",
     "output_type": "stream",
     "text": [
      "Cluster find by SDP = [[0, 4, 9], [1, 2, 3, 7, 8, 10, 5, 6]]\n"
     ]
    }
   ],
   "source": [
    "# params init \n",
    "\n",
    "sdp_cluster = []\n",
    "threshold = 0.5\n",
    "proba = 0.95\n",
    "decay = 0.77\n",
    "index = list(range(X.shape[1]))\n",
    "algo = 'plugin'\n",
    "data = X_train.values\n",
    "\n",
    "local_sdp_clf(ind, fx, forest, threshold, proba, index, algo, data, sdp_cluster, decay, C=[[5, 6]])\n",
    "\n",
    "print('Cluster find by SDP = {}'.format(sdp_cluster))\n",
    "\n",
    "sdp_importance = []\n",
    "for c in sdp_cluster:\n",
    "    value = [cond_sdp_tree_clf(ind, fx, threshold, forest.estimators_[i].tree_, S=chain_l(c), \n",
    "                    algo=algo, data=data)[1] for i in range(len(forest.estimators_))]\n",
    "\n",
    "    sdp_importance.append(np.mean(value))\n",
    "\n",
    "sdp_importance_name = []\n",
    "for c in sdp_cluster:\n",
    "    sdp_importance_name.append(str([X.columns[i] for i in c]))"
   ]
  },
  {
   "cell_type": "code",
   "execution_count": 321,
   "metadata": {},
   "outputs": [
    {
     "data": {
      "image/png": "[encoded data removed]",
      "text/plain": [
       "<Figure size 720x576 with 1 Axes>"
      ]
     },
     "metadata": {},
     "output_type": "display_data"
    }
   ],
   "source": [
    "plot_feature_importance(sdp_importance, sdp_importance_name, 'forest_SDP  ', title='Sufficient coalition')"
   ]
  },
  {
   "cell_type": "code",
   "execution_count": 252,
   "metadata": {},
   "outputs": [
    {
     "data": {
      "text/plain": [
       "[0, 10]"
      ]
     },
     "execution_count": 252,
     "metadata": {},
     "output_type": "execute_result"
    }
   ],
   "source": [
    "sdp_cluster[0]"
   ]
  },
  {
   "cell_type": "code",
   "execution_count": 51,
   "metadata": {},
   "outputs": [],
   "source": [
    "# from fast_acv_clf import *\n",
    "from scipy.special import comb\n",
    "from utils import *\n",
    "from numba import jit\n",
    "\n",
    "\n",
    "class ACVClassifier:\n",
    "    def __init__(self, model, data_bground):\n",
    "        self.model = model\n",
    "        self.n_nodes = model.tree_.node_count\n",
    "        self.children_left = model.tree_.children_left\n",
    "        self.children_right = model.tree_.children_right\n",
    "        self.feature = model.tree_.feature\n",
    "        self.threshold = model.tree_.threshold\n",
    "        self.weight_samples = model.tree_.weighted_n_node_samples\n",
    "        self.v = model.tree_.value[:, 0, :] / model.tree_.value[:, 0, :].sum(axis=1)[:, None]\n",
    "        self.leaf_idx = [i for i in range(len(model.tree_.feature)) if model.tree_.feature[i] < 0]\n",
    "        self.data = data_bground\n",
    "\n",
    "        self.partition_leaves = {}\n",
    "        self.node_idx = {}\n",
    "        self.data_leaves = {}\n",
    "        for leaf_id in tqdm(self.leaf_idx):\n",
    "            node_id = [-1]\n",
    "            partition_leaf = [np.array([[-np.inf, np.inf]]) for i in range(self.data.shape[1])]\n",
    "            _ = get_partition(leaf_id, partition_leaf, node_id, self.children_left, self.children_right,\n",
    "                              self.feature, self.threshold)\n",
    "            self.partition_leaves[leaf_id] = np.squeeze(np.array(partition_leaf))\n",
    "            self.node_idx[leaf_id] = node_id[1:]\n",
    "            self.data_leaves[leaf_id] = np.array([(self.data[:, s] <= self.partition_leaves[leaf_id][s, 1]) * \\\n",
    "                                                  (self.data[:, s] >= self.partition_leaves[leaf_id][s, 0])\n",
    "                                                  for s in range(self.partition_leaves[leaf_id].shape[0])])\n",
    "\n",
    "    def shap_values(self, x, C):\n",
    "        return shap_values_leaves(x, self.partition_leaves, self.data_leaves, self.node_idx,\n",
    "                                  self.leaf_idx, self.weight_samples, self.v, C)\n",
    "    #\n",
    "    # def shap_values_nocoal(self, x):\n",
    "    #     return shap_values_leaves_nocoal(x, self.partition_leaves, self.data_leaves, self.node_idx,\n",
    "    #                                      self.leaf_idx, self.weight_samples, self.v)\n",
    "\n",
    "    def shap_values_acv(self, x, C, S_star, N_star):\n",
    "        return shap_values_acv_leaves_clf(x, self.partition_leaves, self.data_leaves, self.node_idx,\n",
    "                                      self.leaf_idx, self.weight_samples, self.v, C, S_star, N_star)\n",
    "\n",
    "    # def shap_values_acv_nocoal(self, x, S_star, N_star):\n",
    "    #     return shap_values_acv_leaves_nocoal(x, self.partition_leaves, self.data_leaves, self.node_idx,\n",
    "    #                                          self.leaf_idx, self.weight_samples, self.v, S_star, N_star)\n",
    "\n",
    "\n",
    "# @jit(nopython=True)\n",
    "def powerset(iterable):\n",
    "    s = list(iterable)\n",
    "    return itertools.chain.from_iterable(itertools.combinations(s, r) for r in range(len(s) + 1))\n",
    "\n",
    "\n",
    "# @jit(nopython=True)\n",
    "def get_partition(leaf_id, part, node_id, children_left, children_right, feature, threshold):\n",
    "    left = np.where(children_left == leaf_id)[0]\n",
    "    right = np.where(children_right == leaf_id)[0]\n",
    "\n",
    "    if (len(left) == 0) * (len(right) == 0):\n",
    "        return part, node_id\n",
    "\n",
    "    else:\n",
    "        if len(right) != 0:\n",
    "            right = int(right[0])\n",
    "            node_id.append(feature[right])\n",
    "\n",
    "            part[feature[right]] = np.concatenate((part[feature[right]], np.array([[threshold[right], np.inf]])))\n",
    "            part[feature[right]] = np.array([[np.max(part[feature[right]][:, 0]), np.min(part[feature[right]][:, 1])]])\n",
    "            return get_partition(right, part, node_id, children_left, children_right, feature, threshold)\n",
    "        else:\n",
    "            left = int(left[0])\n",
    "            node_id.append(feature[left])\n",
    "\n",
    "            part[feature[left]] = np.concatenate((part[feature[left]], np.array([[-np.inf, threshold[left]]])))\n",
    "            part[feature[left]] = np.array([[np.max(part[feature[left]][:, 0]), np.min(part[feature[left]][:, 1])]])\n",
    "\n",
    "            return get_partition(left, part, node_id, children_left, children_right, feature, threshold)\n",
    "\n",
    "\n",
    "# @jit(nopython=True)\n",
    "def shap_values_leaves(x, partition_leaves, data_leaves, node_idx, leaf_idx, weight_samples, v, C):\n",
    "    phi = np.zeros((x.shape[0], x.shape[1], 2)).astype(np.float64)\n",
    "\n",
    "    for leaf_id in tqdm(leaf_idx):\n",
    "\n",
    "        partition_leaf = partition_leaves[leaf_id]\n",
    "        data_leaf = data_leaves[leaf_id]\n",
    "        node_id = node_idx[leaf_id]\n",
    "        Lm = weight_samples[leaf_id]\n",
    "\n",
    "        d = x.shape[1]\n",
    "        va_id = list(range(d))\n",
    "\n",
    "        # start handle coalition\n",
    "        if C[0] != []:\n",
    "            for c in C:\n",
    "                d -= len(c)\n",
    "                va_id = list(set(va_id) - set(c))\n",
    "            for c in C:\n",
    "                va_id += [c]\n",
    "                present = np.sum([c_i in node_id for c_i in c])\n",
    "                if present != 0:\n",
    "                    node_id = node_id + c\n",
    "            d += len(C)\n",
    "\n",
    "        for i in va_id:\n",
    "            if not set(convert_list(i)).issubset(node_id):\n",
    "                continue\n",
    "\n",
    "            Sm = list(set(node_id) - set(convert_list(i)))\n",
    "\n",
    "            if C[0] != []:\n",
    "                buffer_Sm = Sm.copy()\n",
    "                for c in C:\n",
    "                    if set(c).issubset(buffer_Sm):\n",
    "                        Sm = list(set(Sm) - set(c))\n",
    "                for c in C:\n",
    "                    if set(c).issubset(buffer_Sm):\n",
    "                        Sm += [c]\n",
    "            # end handle coalition\n",
    "\n",
    "            for S in powerset(Sm):\n",
    "\n",
    "                comp_si = np.prod([(x[:, s] <= partition_leaf[s, 1]) * (x[:, s] >= partition_leaf[s, 0])\n",
    "                                   for s in chain_l(S) + convert_list(i)], axis=0)\n",
    "                comp_s = np.prod([(x[:, s] <= partition_leaf[s, 1]) * (x[:, s] >= partition_leaf[s, 0])\n",
    "                                  for s in chain_l(S)], axis=0)\n",
    "\n",
    "                coef = 0\n",
    "                for l in range(1, d - len(Sm)):\n",
    "                    coef += comb(d - len(Sm) - 1, l) * comb(d - 1, l + len(S)) ** (-1)\n",
    "\n",
    "                Lsi = np.sum(np.prod(data_leaf[chain_l(S) + convert_list(i), :], axis=0))\n",
    "                Ls = np.sum(np.prod(data_leaf[chain_l(S), :], axis=0))\n",
    "\n",
    "                P_si = (comp_si * Lm) / Lsi\n",
    "\n",
    "                if len(S) == 0:\n",
    "                    P_s = Lm / np.sum(weight_samples[leaf_idx])\n",
    "                else:\n",
    "                    P_s = (comp_s * Lm) / Ls\n",
    "                    \n",
    "                phi[:, i] += (comb(d - 1, len(S), exact=True) ** (-1) + coef) * v[leaf_id] * (P_si - P_s)[:, None]\n",
    "\n",
    "    return phi / d\n"
   ]
  },
  {
   "cell_type": "code",
   "execution_count": 52,
   "metadata": {},
   "outputs": [
    {
     "name": "stderr",
     "output_type": "stream",
     "text": [
      "  0%|          | 0/50 [00:00<?, ?it/s]\n",
      "100%|██████████| 48/48 [00:00<00:00, 1663.97it/s]\n",
      "\n",
      "100%|██████████| 45/45 [00:00<00:00, 2077.26it/s]\n",
      "\n",
      "100%|██████████| 40/40 [00:00<00:00, 2994.54it/s]\n",
      "\n",
      "100%|██████████| 35/35 [00:00<00:00, 3042.44it/s]\n",
      "\n",
      "100%|██████████| 34/34 [00:00<00:00, 3432.82it/s]\n",
      "\n",
      "100%|██████████| 43/43 [00:00<00:00, 3054.12it/s]\n",
      " 12%|█▏        | 6/50 [00:00<00:00, 53.54it/s]\n",
      "100%|██████████| 42/42 [00:00<00:00, 3138.89it/s]\n",
      "\n",
      "100%|██████████| 45/45 [00:00<00:00, 2732.72it/s]\n",
      "\n",
      "100%|██████████| 43/43 [00:00<00:00, 3139.07it/s]\n",
      "\n",
      "100%|██████████| 42/42 [00:00<00:00, 3081.40it/s]\n",
      "\n",
      "100%|██████████| 33/33 [00:00<00:00, 3222.11it/s]\n",
      "\n",
      "100%|██████████| 41/41 [00:00<00:00, 3113.19it/s]\n",
      "\n",
      "100%|██████████| 37/37 [00:00<00:00, 2996.34it/s]\n",
      " 26%|██▌       | 13/50 [00:00<00:00, 56.42it/s]\n",
      "100%|██████████| 49/49 [00:00<00:00, 2873.41it/s]\n",
      "\n",
      "100%|██████████| 40/40 [00:00<00:00, 3125.59it/s]\n",
      "\n",
      "100%|██████████| 36/36 [00:00<00:00, 3146.38it/s]\n",
      "\n",
      "100%|██████████| 38/38 [00:00<00:00, 3009.00it/s]\n",
      "\n",
      "100%|██████████| 41/41 [00:00<00:00, 1866.20it/s]\n",
      "\n",
      "100%|██████████| 41/41 [00:00<00:00, 2245.78it/s]\n",
      " 38%|███▊      | 19/50 [00:00<00:00, 56.48it/s]\n",
      "100%|██████████| 42/42 [00:00<00:00, 2044.84it/s]\n",
      "\n",
      "100%|██████████| 45/45 [00:00<00:00, 2005.50it/s]\n",
      "\n",
      "100%|██████████| 39/39 [00:00<00:00, 2402.20it/s]\n",
      "\n",
      "100%|██████████| 34/34 [00:00<00:00, 1945.60it/s]\n",
      "\n",
      "100%|██████████| 32/32 [00:00<00:00, 2593.43it/s]\n",
      "\n",
      "100%|██████████| 48/48 [00:00<00:00, 2046.02it/s]\n",
      " 50%|█████     | 25/50 [00:00<00:00, 53.66it/s]\n",
      "100%|██████████| 43/43 [00:00<00:00, 2055.26it/s]\n",
      "\n",
      "100%|██████████| 42/42 [00:00<00:00, 2350.75it/s]\n",
      "\n",
      "100%|██████████| 39/39 [00:00<00:00, 1942.66it/s]\n",
      "\n",
      "100%|██████████| 32/32 [00:00<00:00, 3462.43it/s]\n",
      "\n",
      "100%|██████████| 46/46 [00:00<00:00, 2600.03it/s]\n",
      "\n",
      "100%|██████████| 39/39 [00:00<00:00, 3280.35it/s]\n",
      " 62%|██████▏   | 31/50 [00:00<00:00, 53.72it/s]\n",
      "100%|██████████| 42/42 [00:00<00:00, 3046.24it/s]\n",
      "\n",
      "100%|██████████| 41/41 [00:00<00:00, 3103.53it/s]\n",
      "\n",
      "100%|██████████| 44/44 [00:00<00:00, 3094.34it/s]\n",
      "\n",
      "100%|██████████| 41/41 [00:00<00:00, 2887.33it/s]\n",
      "\n",
      "100%|██████████| 39/39 [00:00<00:00, 3268.35it/s]\n",
      "\n",
      "100%|██████████| 33/33 [00:00<00:00, 3166.67it/s]\n",
      "\n",
      "100%|██████████| 32/32 [00:00<00:00, 3321.23it/s]\n",
      "\n",
      "100%|██████████| 37/37 [00:00<00:00, 3133.24it/s]\n",
      " 78%|███████▊  | 39/50 [00:00<00:00, 57.86it/s]\n",
      "100%|██████████| 48/48 [00:00<00:00, 2961.95it/s]\n",
      "\n",
      "100%|██████████| 44/44 [00:00<00:00, 2990.64it/s]\n",
      "\n",
      "100%|██████████| 44/44 [00:00<00:00, 2956.01it/s]\n",
      "\n",
      "100%|██████████| 38/38 [00:00<00:00, 3053.50it/s]\n",
      "\n",
      "100%|██████████| 37/37 [00:00<00:00, 3024.48it/s]\n",
      "\n",
      "100%|██████████| 42/42 [00:00<00:00, 3084.64it/s]\n",
      "\n",
      "100%|██████████| 38/38 [00:00<00:00, 3168.91it/s]\n",
      " 92%|█████████▏| 46/50 [00:00<00:00, 59.62it/s]\n",
      "100%|██████████| 44/44 [00:00<00:00, 3113.29it/s]\n",
      "\n",
      "100%|██████████| 26/26 [00:00<00:00, 3615.78it/s]\n",
      "\n",
      "100%|██████████| 38/38 [00:00<00:00, 3610.21it/s]\n",
      "\n",
      "100%|██████████| 43/43 [00:00<00:00, 3034.19it/s]\n",
      "100%|██████████| 50/50 [00:00<00:00, 59.67it/s]\n"
     ]
    }
   ],
   "source": [
    "# init acv classifier\n",
    "\n",
    "forest_acv = []\n",
    "for i in tqdm(range(forest.n_estimators)):\n",
    "    forest_acv.append(ACVClassifier(forest.estimators_[i], X_train.values))"
   ]
  },
  {
   "cell_type": "code",
   "execution_count": 165,
   "metadata": {},
   "outputs": [
    {
     "name": "stderr",
     "output_type": "stream",
     "text": [
      "100%|██████████| 48/48 [00:07<00:00,  6.79it/s]\n",
      "100%|██████████| 45/45 [00:04<00:00,  9.48it/s]\n",
      "100%|██████████| 40/40 [00:03<00:00, 10.93it/s]\n",
      "100%|██████████| 35/35 [00:02<00:00, 12.25it/s]\n",
      "100%|██████████| 34/34 [00:01<00:00, 21.76it/s]\n",
      "100%|██████████| 43/43 [00:09<00:00,  4.35it/s]\n",
      "100%|██████████| 42/42 [00:02<00:00, 14.03it/s]\n",
      "100%|██████████| 45/45 [00:17<00:00,  2.51it/s]\n",
      "100%|██████████| 43/43 [00:02<00:00, 17.25it/s]\n",
      "100%|██████████| 42/42 [00:09<00:00,  4.44it/s]\n",
      "100%|██████████| 33/33 [00:02<00:00, 14.07it/s]\n",
      "100%|██████████| 41/41 [00:07<00:00,  5.81it/s]\n",
      "100%|██████████| 37/37 [00:06<00:00,  5.50it/s]\n",
      "100%|██████████| 49/49 [00:08<00:00,  5.45it/s]\n",
      "100%|██████████| 40/40 [00:02<00:00, 17.16it/s]\n",
      "100%|██████████| 36/36 [00:01<00:00, 20.50it/s]\n",
      "100%|██████████| 38/38 [00:05<00:00,  7.45it/s]\n",
      "100%|██████████| 41/41 [00:04<00:00,  9.80it/s]\n",
      "100%|██████████| 41/41 [00:03<00:00, 11.04it/s]\n",
      "100%|██████████| 42/42 [00:03<00:00, 11.19it/s]\n",
      "100%|██████████| 45/45 [00:07<00:00,  5.96it/s]\n",
      "100%|██████████| 39/39 [00:03<00:00, 11.44it/s]\n",
      "100%|██████████| 34/34 [00:02<00:00, 13.95it/s]\n",
      "100%|██████████| 32/32 [00:02<00:00, 13.25it/s]\n",
      "100%|██████████| 48/48 [00:05<00:00,  9.41it/s]\n",
      "100%|██████████| 43/43 [00:21<00:00,  2.04it/s]\n",
      "100%|██████████| 42/42 [00:03<00:00, 13.92it/s]\n",
      "100%|██████████| 39/39 [00:02<00:00, 13.12it/s]\n",
      "100%|██████████| 32/32 [00:00<00:00, 33.07it/s]\n",
      "100%|██████████| 46/46 [00:14<00:00,  3.20it/s]\n",
      "100%|██████████| 39/39 [00:05<00:00,  7.19it/s]\n",
      "100%|██████████| 42/42 [00:08<00:00,  4.93it/s]\n",
      "100%|██████████| 41/41 [00:06<00:00,  6.51it/s]\n",
      "100%|██████████| 44/44 [00:08<00:00,  5.35it/s]\n",
      "100%|██████████| 41/41 [00:21<00:00,  1.94it/s]\n",
      "100%|██████████| 39/39 [00:02<00:00, 15.46it/s]\n",
      "100%|██████████| 33/33 [00:01<00:00, 22.02it/s]\n",
      "100%|██████████| 32/32 [00:01<00:00, 30.53it/s]\n",
      "100%|██████████| 37/37 [00:05<00:00,  6.66it/s]\n",
      "100%|██████████| 48/48 [00:18<00:00,  2.59it/s]\n",
      "100%|██████████| 44/44 [00:12<00:00,  3.54it/s]\n",
      "100%|██████████| 44/44 [00:09<00:00,  4.76it/s]\n",
      "100%|██████████| 38/38 [00:02<00:00, 13.83it/s]\n",
      "100%|██████████| 37/37 [00:05<00:00,  6.70it/s]\n",
      "100%|██████████| 42/42 [00:04<00:00,  9.56it/s]\n",
      "100%|██████████| 38/38 [00:02<00:00, 15.13it/s]\n",
      "100%|██████████| 44/44 [00:05<00:00,  7.82it/s]\n",
      "100%|██████████| 26/26 [00:00<00:00, 41.54it/s]\n",
      "100%|██████████| 38/38 [00:01<00:00, 27.38it/s]\n",
      "100%|██████████| 43/43 [00:07<00:00,  5.69it/s]\n"
     ]
    }
   ],
   "source": [
    "# Compute SV\n",
    "\n",
    "C = [[]]\n",
    "forest_acv_sv = []\n",
    "for tree in forest_acv:\n",
    "    forest_acv_sv.append(tree.shap_values(X_train.values[:500], C=C))"
   ]
  },
  {
   "cell_type": "code",
   "execution_count": 253,
   "metadata": {},
   "outputs": [],
   "source": [
    "forest_acv_sv_array = np.array(forest_acv_sv)[:, :, :, 1]"
   ]
  },
  {
   "cell_type": "code",
   "execution_count": 254,
   "metadata": {},
   "outputs": [
    {
     "data": {
      "text/plain": [
       "(50, 500, 11)"
      ]
     },
     "execution_count": 254,
     "metadata": {},
     "output_type": "execute_result"
    }
   ],
   "source": [
    "forest_acv_sv_array.shape"
   ]
  },
  {
   "cell_type": "code",
   "execution_count": 255,
   "metadata": {},
   "outputs": [
    {
     "data": {
      "text/plain": [
       "(500, 11)"
      ]
     },
     "execution_count": 255,
     "metadata": {},
     "output_type": "execute_result"
    }
   ],
   "source": [
    "np.mean(forest_acv_sv_array[:, :, :], axis=0).shape"
   ]
  },
  {
   "cell_type": "code",
   "execution_count": 256,
   "metadata": {},
   "outputs": [
    {
     "data": {
      "text/plain": [
       "73"
      ]
     },
     "execution_count": 256,
     "metadata": {},
     "output_type": "execute_result"
    }
   ],
   "source": [
    "idx"
   ]
  },
  {
   "cell_type": "code",
   "execution_count": 257,
   "metadata": {
    "scrolled": false
   },
   "outputs": [
    {
     "name": "stdout",
     "output_type": "stream",
     "text": [
      "[ 0.03910956  0.01970136  0.00660781  0.0013292   0.11168254 -0.00411946\n",
      "  0.00200869 -0.00059155  0.02284898 -0.00686774  0.03723762]\n"
     ]
    },
    {
     "data": {
      "image/png": "[encoded data removed]",
      "text/plain": [
       "<Figure size 432x288 with 1 Axes>"
      ]
     },
     "metadata": {
      "needs_background": "light"
     },
     "output_type": "display_data"
    },
    {
     "data": {
      "image/png": "[encoded data removed]",
      "text/plain": [
       "<Figure size 432x288 with 1 Axes>"
      ]
     },
     "metadata": {
      "needs_background": "light"
     },
     "output_type": "display_data"
    },
    {
     "data": {
      "image/png": "[encoded data removed]",
      "text/plain": [
       "<Figure size 432x288 with 1 Axes>"
      ]
     },
     "metadata": {
      "needs_background": "light"
     },
     "output_type": "display_data"
    },
    {
     "data": {
      "image/png": "[encoded data removed]",
      "text/plain": [
       "<Figure size 432x288 with 1 Axes>"
      ]
     },
     "metadata": {
      "needs_background": "light"
     },
     "output_type": "display_data"
    },
    {
     "data": {
      "image/png": "[encoded data removed]",
      "text/plain": [
       "<Figure size 432x288 with 1 Axes>"
      ]
     },
     "metadata": {
      "needs_background": "light"
     },
     "output_type": "display_data"
    },
    {
     "data": {
      "image/png": "[encoded data removed]",
      "text/plain": [
       "<Figure size 432x288 with 1 Axes>"
      ]
     },
     "metadata": {
      "needs_background": "light"
     },
     "output_type": "display_data"
    },
    {
     "data": {
      "image/png": "[encoded data removed]",
      "text/plain": [
       "<Figure size 432x288 with 1 Axes>"
      ]
     },
     "metadata": {
      "needs_background": "light"
     },
     "output_type": "display_data"
    },
    {
     "data": {
      "image/png": "[encoded data removed]",
      "text/plain": [
       "<Figure size 432x288 with 1 Axes>"
      ]
     },
     "metadata": {
      "needs_background": "light"
     },
     "output_type": "display_data"
    },
    {
     "data": {
      "image/png": "[encoded data removed]",
      "text/plain": [
       "<Figure size 432x288 with 1 Axes>"
      ]
     },
     "metadata": {
      "needs_background": "light"
     },
     "output_type": "display_data"
    },
    {
     "data": {
      "image/png": "[encoded data removed]",
      "text/plain": [
       "<Figure size 432x288 with 1 Axes>"
      ]
     },
     "metadata": {
      "needs_background": "light"
     },
     "output_type": "display_data"
    },
    {
     "data": {
      "image/png": "[encoded data removed]",
      "text/plain": [
       "<Figure size 432x288 with 1 Axes>"
      ]
     },
     "metadata": {
      "needs_background": "light"
     },
     "output_type": "display_data"
    }
   ],
   "source": [
    "# idx = np.random.randint(0, 400)\n",
    "d = 11\n",
    "print(np.mean(forest_acv_sv_array, axis=0)[idx])\n",
    "var_dict = {}\n",
    "for i in range(d):\n",
    "\n",
    "    plt.figure()\n",
    "    plt.hist(forest_acv_sv_array[:, idx, i])\n",
    "    plt.title('X{} - SV = {} - var = {} '.format(i, np.mean(forest_acv_sv_array[:, idx, i]), np.var(forest_acv_sv_array[:, idx, i])))\n",
    "    var_dict[str(i)] = np.var(forest_acv_sv_array[:, idx, i])"
   ]
  },
  {
   "cell_type": "code",
   "execution_count": 258,
   "metadata": {},
   "outputs": [
    {
     "name": "stdout",
     "output_type": "stream",
     "text": [
      "{'3': 0.0004003928221973419, '7': 0.000417316775930782, '8': 0.000733926397868381, '2': 0.0008557034430296214, '6': 0.0009360996327619955, '10': 0.001052167324264514, '1': 0.0013805965420241742, '5': 0.001887021407476713, '9': 0.002340635395642118, '0': 0.002561627682543857, '4': 0.005701598100021551}\n"
     ]
    }
   ],
   "source": [
    "dict1 = var_dict\n",
    "sorted_dict = {}\n",
    "sorted_keys = sorted(dict1, key=dict1.get)  # [1, 3, 2]\n",
    "\n",
    "for w in sorted_keys:\n",
    "    sorted_dict[w] = dict1[w]\n",
    "\n",
    "print(sorted_dict) # {1: 1, 3: 4, 2: 9}"
   ]
  },
  {
   "cell_type": "code",
   "execution_count": 259,
   "metadata": {},
   "outputs": [
    {
     "data": {
      "text/plain": [
       "[[0, 10], [1, 4, 8], [9, 2, 3, 7, 5, 6]]"
      ]
     },
     "execution_count": 259,
     "metadata": {},
     "output_type": "execute_result"
    }
   ],
   "source": [
    "sdp_cluster"
   ]
  },
  {
   "cell_type": "code",
   "execution_count": null,
   "metadata": {},
   "outputs": [],
   "source": []
  },
  {
   "cell_type": "code",
   "execution_count": null,
   "metadata": {},
   "outputs": [],
   "source": []
  },
  {
   "cell_type": "markdown",
   "metadata": {},
   "source": [
    "# Toy model "
   ]
  },
  {
   "cell_type": "code",
   "execution_count": 1,
   "metadata": {},
   "outputs": [
    {
     "data": {
      "text/plain": [
       "'/home/samoukou/Documents/shap-explainer/notebook'"
      ]
     },
     "execution_count": 1,
     "metadata": {},
     "output_type": "execute_result"
    }
   ],
   "source": [
    "import os \n",
    "os.getcwd()"
   ]
  },
  {
   "cell_type": "code",
   "execution_count": 2,
   "metadata": {},
   "outputs": [],
   "source": [
    "import os \n",
    "os.chdir('/home/samoukou/Documents/shap-explainer')\n",
    "\n",
    "import warnings\n",
    "warnings.filterwarnings('ignore')"
   ]
  },
  {
   "cell_type": "code",
   "execution_count": 3,
   "metadata": {},
   "outputs": [],
   "source": [
    "from acv_tools import *\n",
    "from utils import *\n",
    "\n",
    "# from sklearn.model_selection import train_test_split"
   ]
  },
  {
   "cell_type": "code",
   "execution_count": 4,
   "metadata": {},
   "outputs": [],
   "source": [
    "import random \n",
    "# from sklearn.tree import DecisionTreeClassifier\n",
    "random.seed(212)\n",
    "np.random.seed(212)\n",
    "\n",
    "plt.style.use('ggplot')"
   ]
  },
  {
   "cell_type": "markdown",
   "metadata": {},
   "source": [
    "###  Load data and model "
   ]
  },
  {
   "cell_type": "code",
   "execution_count": 5,
   "metadata": {},
   "outputs": [],
   "source": [
    "import random\n",
    "random.seed(2021)\n",
    "\n",
    "np.random.seed(2021)"
   ]
  },
  {
   "cell_type": "code",
   "execution_count": 7,
   "metadata": {},
   "outputs": [],
   "source": [
    "from experiments.exp_linear_gmm import *\n",
    "from fast_acv import *\n",
    "from acv_tools import *"
   ]
  },
  {
   "cell_type": "code",
   "execution_count": 8,
   "metadata": {},
   "outputs": [
    {
     "name": "stdout",
     "output_type": "stream",
     "text": [
      "[ 0.          0.          2.40940609 -2.03829508]\n",
      "[ 0.          0.          0.18007209 -1.37797477]\n",
      "[0.97746585 0.24852152 0.         0.        ]\n"
     ]
    }
   ],
   "source": [
    "# p = 0.7\n",
    "n = 10000\n",
    "d = 4\n",
    "C = [[d, d+1]]\n",
    "\n",
    "for i in range(5):\n",
    "    cov = {}\n",
    "    gaus = np.random.randn(d, d)\n",
    "    cov['a'] = np.dot(gaus, gaus.T)\n",
    "    gaus = np.random.randn(d, d)\n",
    "    cov['b'] = np.dot(gaus, gaus.T)\n",
    "    gaus = np.random.randn(d, d)\n",
    "    cov['c'] = np.dot(gaus, gaus.T)\n",
    "\n",
    "\n",
    "    coefs_a = 3*np.random.randn(d)\n",
    "    coefs_a[:2] = 0\n",
    "\n",
    "\n",
    "    coefs_b = 3*np.random.randn(d)\n",
    "    coefs_b[:2] = 0\n",
    "\n",
    "\n",
    "    coefs_c = 2*np.random.randn(d)\n",
    "    coefs_c[2:] = 0\n",
    "\n",
    "    exp = ExperimentsLinearGMM(mean={'a': np.zeros(d), 'b': np.zeros(d), 'c': np.zeros(d)},\n",
    "                               cov=cov,\n",
    "                               coefs={'a': coefs_a, 'b': coefs_b, 'c': coefs_c},\n",
    "                               pi={'a': 1/3, 'b': 1/3, 'c': 1/3}, n=n, C=C,\n",
    "                               cat_index=[d, d+1])\n",
    "    \n",
    "print(coefs_a)\n",
    "print(coefs_b)\n",
    "print(coefs_c)"
   ]
  },
  {
   "cell_type": "code",
   "execution_count": 47,
   "metadata": {},
   "outputs": [
    {
     "name": "stdout",
     "output_type": "stream",
     "text": [
      "fitted model train_error = 0.07107829855705565\n",
      "fitted model test_error = 0.21587329435921898\n",
      "fitted model train_error = 0.15421079778164704\n",
      "fitted model test_error = 0.32231104369100705\n"
     ]
    }
   ],
   "source": [
    "tree = DecisionTreeRegressor(min_samples_leaf=5, min_samples_split=10, max_depth=20, random_state=2021)\n",
    "tree = exp.fit_model(tree)\n",
    "\n",
    "seed = np.random.randint(0, 10000)\n",
    "n_estimators = 1\n",
    "forest = RandomForestRegressor(n_estimators=n_estimators, min_samples_leaf=1, min_samples_split=5, \n",
    "                               max_samples=0.6, max_depth=12, random_state=7706)\n",
    "forest = exp.fit_model(forest)\n",
    "\n",
    "forest.estimators_[0] = tree"
   ]
  },
  {
   "cell_type": "code",
   "execution_count": 68,
   "metadata": {},
   "outputs": [],
   "source": [
    "idx = np.random.randint(0, 10000)\n",
    "ind = exp.data_test[idx]\n",
    "y_ind = exp.y_test[idx]\n",
    "\n",
    "fx = forest.predict(np.expand_dims(ind, 0))[0]"
   ]
  },
  {
   "cell_type": "code",
   "execution_count": 69,
   "metadata": {},
   "outputs": [
    {
     "name": "stdout",
     "output_type": "stream",
     "text": [
      "x = [-0.45108905 -0.42999059  0.05177736 -1.32579503  0.          0.        ]\n"
     ]
    }
   ],
   "source": [
    "print('x = {}'.format(ind))"
   ]
  },
  {
   "cell_type": "code",
   "execution_count": 70,
   "metadata": {},
   "outputs": [
    {
     "name": "stdout",
     "output_type": "stream",
     "text": [
      "f(x) = -0.47314185844650425, y_ind = -0.5477860617929607\n"
     ]
    }
   ],
   "source": [
    "print('f(x) = {}, y_ind = {}'.format(fx, y_ind))"
   ]
  },
  {
   "cell_type": "code",
   "execution_count": 85,
   "metadata": {},
   "outputs": [],
   "source": [
    "from scipy.special import comb"
   ]
  },
  {
   "cell_type": "code",
   "execution_count": 86,
   "metadata": {},
   "outputs": [],
   "source": [
    "def powerset(iterable):\n",
    "    s = list(iterable)\n",
    "    return itertools.chain.from_iterable(itertools.combinations(s, r) for r in range(len(s) + 1))"
   ]
  },
  {
   "cell_type": "code",
   "execution_count": 110,
   "metadata": {},
   "outputs": [],
   "source": [
    "from scipy.special import comb\n",
    "\n",
    "def vote_exp(x, fx, tx, pi, forest, S, data, algo=\"plugin\"):\n",
    "    if len(S) == 0:\n",
    "        return 0\n",
    "    sdp = cond_sdp_forest(x, fx, tx, forest, S, data, algo=algo)\n",
    "    return int(sdp >= pi)\n",
    "\n",
    "\n",
    "def tree_shap_vote(tree, x,  tx, fx, pi, algo, data=None, C=[[]]):\n",
    "    \"\"\"\n",
    "    Compute Classic Shapley values of a tree_classifier of x\n",
    "\n",
    "    Args:\n",
    "        tree (DecisionTreeClassifier):\n",
    "        x (array): observation\n",
    "        algo (string): name of the estimators, recommended 'plugin'\n",
    "        data (array): data used to compute the Shapley values\n",
    "        C (list[list]): list of the different coalition of variables by their index\n",
    "\n",
    "    Returns:\n",
    "        array: Shapley values of x\n",
    "    \"\"\"\n",
    "    m = len(x)\n",
    "    va_id = list(range(m))\n",
    "    va_id_buffer = va_id.copy()\n",
    "\n",
    "    if C[0] != []:\n",
    "        for c in C:\n",
    "            m -= len(c)\n",
    "            va_id = list(set(va_id) - set(c))\n",
    "        m += len(C)\n",
    "        for c in C:\n",
    "            va_id += [c]\n",
    "\n",
    "    phi = np.zeros(len(x))\n",
    "    \n",
    "    for i in va_id:\n",
    "        if C[0] != []:\n",
    "            Sm = list(set(va_id_buffer) - set(convert_list(i)))\n",
    "            for c in C:\n",
    "                if c != convert_list(i):\n",
    "                    Sm = list(set(Sm) - set(c))\n",
    "            for c in C:\n",
    "                if c != convert_list(i):\n",
    "                    Sm += [c]\n",
    "        else:\n",
    "            Sm = list(set(va_id_buffer) - set(convert_list(i)))\n",
    "\n",
    "        for S in tqdm(powerset(Sm)):\n",
    "            phi[chain_l(i)] +=\\\n",
    "                comb(m-1, len(S))**(-1)*(vote_exp(x=x, fx=fx, tx=tx, pi=pi, forest=tree, S=chain_l(S)+convert_list(i), data=data, algo=algo) - \\\n",
    "                vote_exp(x=x, fx=fx, tx=tx, pi=pi, forest=tree, S=chain_l(S), data=data, algo=algo))\n",
    "    return phi/m\n",
    "            \n",
    "#     for p in tqdm(itertools.permutations(va_id)):\n",
    "#         for i in range(m):\n",
    "#             phi[chain_l(p[i])] += \\\n",
    "#                 vote_exp(x=x, fx=fx, tx=tx, pi=pi, forest=tree, S=chain_l(p[:i+1]), data=data, algo=algo) - \\\n",
    "#                 vote_exp(x=x, fx=fx, tx=tx, pi=pi, forest=tree, S=chain_l(p[:i]), data=data, algo=algo)\n",
    "#     return phi / math.factorial(m)"
   ]
  },
  {
   "cell_type": "code",
   "execution_count": 111,
   "metadata": {},
   "outputs": [],
   "source": [
    "# exp.cond_sdp_tree(ind, fx, 1, tree.tree_, algo='plugin', S = [2, 3, 4, 5], data=exp.data)"
   ]
  },
  {
   "cell_type": "code",
   "execution_count": 112,
   "metadata": {},
   "outputs": [
    {
     "name": "stderr",
     "output_type": "stream",
     "text": [
      "16it [00:05,  2.87it/s]\n",
      "16it [00:05,  2.91it/s]\n",
      "16it [00:05,  2.92it/s]\n",
      "16it [00:05,  2.87it/s]\n",
      "16it [00:05,  2.92it/s]\n"
     ]
    },
    {
     "data": {
      "text/plain": [
       "array([0.33333333, 0.33333333, 0.        , 0.        , 0.33333333,\n",
       "       0.33333333])"
      ]
     },
     "execution_count": 112,
     "metadata": {},
     "output_type": "execute_result"
    }
   ],
   "source": [
    "tree_shap_vote(forest, x=ind, tx=2, fx=fx, pi=0.95, algo='plugin', data=exp.data, C=[[4, 5]])"
   ]
  },
  {
   "cell_type": "code",
   "execution_count": 21,
   "metadata": {},
   "outputs": [
    {
     "ename": "AttributeError",
     "evalue": "'RandomForestRegressor' object has no attribute 'estimators'",
     "output_type": "error",
     "traceback": [
      "\u001b[0;31m---------------------------------------------------------------------------\u001b[0m",
      "\u001b[0;31mAttributeError\u001b[0m                            Traceback (most recent call last)",
      "\u001b[0;32m<ipython-input-21-686003b055bb>\u001b[0m in \u001b[0;36m<module>\u001b[0;34m\u001b[0m\n\u001b[0;32m----> 1\u001b[0;31m \u001b[0mforest\u001b[0m\u001b[0;34m.\u001b[0m\u001b[0mestimators\u001b[0m\u001b[0;34m[\u001b[0m\u001b[0;36m0\u001b[0m\u001b[0;34m]\u001b[0m\u001b[0;34m\u001b[0m\u001b[0;34m\u001b[0m\u001b[0m\n\u001b[0m",
      "\u001b[0;31mAttributeError\u001b[0m: 'RandomForestRegressor' object has no attribute 'estimators'"
     ]
    }
   ],
   "source": [
    "forest.estimators[0]"
   ]
  },
  {
   "cell_type": "code",
   "execution_count": 97,
   "metadata": {},
   "outputs": [
    {
     "data": {
      "text/plain": [
       "0.8400000000000001"
      ]
     },
     "execution_count": 97,
     "metadata": {},
     "output_type": "execute_result"
    }
   ],
   "source": [
    "np.sum(np.array([0.14, 0.14, 0.08, 0.08, 0.2 , 0.2]))"
   ]
  },
  {
   "cell_type": "code",
   "execution_count": null,
   "metadata": {},
   "outputs": [],
   "source": []
  },
  {
   "cell_type": "code",
   "execution_count": null,
   "metadata": {},
   "outputs": [],
   "source": []
  },
  {
   "cell_type": "code",
   "execution_count": null,
   "metadata": {},
   "outputs": [],
   "source": []
  },
  {
   "cell_type": "code",
   "execution_count": null,
   "metadata": {},
   "outputs": [],
   "source": []
  },
  {
   "cell_type": "code",
   "execution_count": null,
   "metadata": {},
   "outputs": [],
   "source": []
  },
  {
   "cell_type": "code",
   "execution_count": null,
   "metadata": {},
   "outputs": [],
   "source": []
  },
  {
   "cell_type": "code",
   "execution_count": null,
   "metadata": {},
   "outputs": [],
   "source": []
  },
  {
   "cell_type": "code",
   "execution_count": 171,
   "metadata": {},
   "outputs": [
    {
     "name": "stderr",
     "output_type": "stream",
     "text": [
      "100%|██████████| 100/100 [01:01<00:00,  1.62it/s]\n"
     ]
    }
   ],
   "source": [
    "forest_acv = []\n",
    "for i in tqdm(range(forest.n_estimators)):\n",
    "    forest_acv.append(ACV(forest.estimators_[i], exp.data))"
   ]
  },
  {
   "cell_type": "code",
   "execution_count": 172,
   "metadata": {},
   "outputs": [
    {
     "name": "stdout",
     "output_type": "stream",
     "text": [
      "1592 1150 1083 1102 1056 1063 1052 1058 1098 1132 1135 1206 1148 1078 1013 1258 1158 1126 1114 1120 1086 1056 1073 1073 999 1144 1096 1143 1070 1131 1066 1020 1182 1067 1055 1162 1019 1089 1305 1051 1250 1217 978 1082 1005 1133 1181 1063 1216 1099 1091 1171 1094 1091 1065 1065 1147 1083 1088 1188 1187 1094 1005 1039 1112 1076 1130 1118 1059 1046 1032 1208 1264 1228 1168 1122 1065 1124 1150 1073 1124 1230 1010 1097 1061 1111 1108 1143 1040 1113 1133 1062 1164 1218 1077 1056 1071 1117 1202 1143 "
     ]
    }
   ],
   "source": [
    "for fo in forest.estimators_:\n",
    "    print(len([i for i in range(len(fo.tree_.feature)) if fo.tree_.feature[i] < 0]), end=' ')"
   ]
  },
  {
   "cell_type": "code",
   "execution_count": 173,
   "metadata": {},
   "outputs": [
    {
     "name": "stderr",
     "output_type": "stream",
     "text": [
      "100%|██████████| 1592/1592 [00:56<00:00, 28.22it/s] \n",
      "100%|██████████| 1150/1150 [00:36<00:00, 31.69it/s]\n",
      "100%|██████████| 1083/1083 [00:34<00:00, 31.11it/s] \n",
      "100%|██████████| 1102/1102 [00:37<00:00, 29.76it/s] \n",
      "100%|██████████| 1056/1056 [00:29<00:00, 35.29it/s] \n",
      "100%|██████████| 1063/1063 [00:36<00:00, 28.78it/s] \n",
      "100%|██████████| 1052/1052 [00:25<00:00, 41.84it/s] \n",
      "100%|██████████| 1058/1058 [00:31<00:00, 33.71it/s]\n",
      "100%|██████████| 1098/1098 [00:30<00:00, 35.51it/s] \n",
      "100%|██████████| 1132/1132 [00:34<00:00, 32.52it/s] \n",
      "100%|██████████| 1135/1135 [00:29<00:00, 38.49it/s] \n",
      "100%|██████████| 1206/1206 [00:34<00:00, 35.30it/s] \n",
      "100%|██████████| 1148/1148 [00:32<00:00, 35.82it/s] \n",
      "100%|██████████| 1078/1078 [00:34<00:00, 30.91it/s] \n",
      "100%|██████████| 1013/1013 [00:29<00:00, 33.84it/s] \n",
      "100%|██████████| 1258/1258 [00:32<00:00, 38.14it/s] \n",
      "100%|██████████| 1158/1158 [00:32<00:00, 35.83it/s] \n",
      "100%|██████████| 1126/1126 [00:29<00:00, 38.03it/s] \n",
      "100%|██████████| 1114/1114 [00:32<00:00, 34.52it/s] \n",
      "100%|██████████| 1120/1120 [00:31<00:00, 35.42it/s] \n",
      "100%|██████████| 1086/1086 [00:29<00:00, 36.41it/s] \n",
      "100%|██████████| 1056/1056 [00:25<00:00, 41.62it/s] \n",
      "100%|██████████| 1073/1073 [00:30<00:00, 35.25it/s] \n",
      "100%|██████████| 1073/1073 [00:37<00:00, 28.99it/s]\n",
      "100%|██████████| 999/999 [00:33<00:00, 29.52it/s] \n",
      "100%|██████████| 1144/1144 [00:34<00:00, 33.15it/s] \n",
      "100%|██████████| 1096/1096 [00:29<00:00, 36.88it/s] \n",
      "100%|██████████| 1143/1143 [00:30<00:00, 37.63it/s] \n",
      "100%|██████████| 1070/1070 [00:36<00:00, 29.30it/s]\n",
      "100%|██████████| 1131/1131 [00:31<00:00, 35.60it/s] \n",
      "100%|██████████| 1066/1066 [00:33<00:00, 32.16it/s]\n",
      "100%|██████████| 1020/1020 [00:37<00:00, 27.56it/s]\n",
      "100%|██████████| 1182/1182 [00:33<00:00, 34.80it/s] \n",
      "100%|██████████| 1067/1067 [00:31<00:00, 33.38it/s]\n",
      "100%|██████████| 1055/1055 [00:29<00:00, 35.63it/s] \n",
      "100%|██████████| 1162/1162 [00:29<00:00, 38.86it/s] \n",
      "100%|██████████| 1019/1019 [00:29<00:00, 34.79it/s] \n",
      "100%|██████████| 1089/1089 [00:33<00:00, 32.98it/s] \n",
      "100%|██████████| 1305/1305 [00:37<00:00, 34.62it/s] \n",
      "100%|██████████| 1051/1051 [00:29<00:00, 35.88it/s] \n",
      "100%|██████████| 1250/1250 [00:34<00:00, 36.60it/s] \n",
      "100%|██████████| 1217/1217 [00:34<00:00, 35.22it/s] \n",
      "100%|██████████| 978/978 [00:36<00:00, 27.07it/s] \n",
      "100%|██████████| 1082/1082 [00:31<00:00, 34.33it/s] \n",
      "100%|██████████| 1005/1005 [00:27<00:00, 36.49it/s]\n",
      "100%|██████████| 1133/1133 [00:32<00:00, 34.68it/s] \n",
      "100%|██████████| 1181/1181 [00:31<00:00, 37.78it/s] \n",
      "100%|██████████| 1063/1063 [00:32<00:00, 32.89it/s] \n",
      "100%|██████████| 1216/1216 [00:35<00:00, 33.97it/s] \n",
      "100%|██████████| 1099/1099 [00:30<00:00, 36.46it/s] \n",
      "100%|██████████| 1091/1091 [00:28<00:00, 38.22it/s] \n",
      "100%|██████████| 1171/1171 [00:33<00:00, 34.71it/s]\n",
      "100%|██████████| 1094/1094 [00:33<00:00, 32.83it/s]\n",
      "100%|██████████| 1091/1091 [00:34<00:00, 31.88it/s]\n",
      "100%|██████████| 1065/1065 [00:34<00:00, 30.54it/s]\n",
      "100%|██████████| 1065/1065 [00:26<00:00, 40.34it/s] \n",
      "100%|██████████| 1147/1147 [00:32<00:00, 35.82it/s] \n",
      "100%|██████████| 1083/1083 [00:31<00:00, 34.90it/s] \n",
      "100%|██████████| 1088/1088 [00:28<00:00, 38.32it/s] \n",
      "100%|██████████| 1188/1188 [00:33<00:00, 35.81it/s] \n",
      "100%|██████████| 1187/1187 [00:30<00:00, 38.58it/s] \n",
      "100%|██████████| 1094/1094 [00:29<00:00, 37.15it/s] \n",
      "100%|██████████| 1005/1005 [00:30<00:00, 32.48it/s] \n",
      "100%|██████████| 1039/1039 [00:35<00:00, 28.91it/s]\n",
      "100%|██████████| 1112/1112 [00:32<00:00, 34.33it/s] \n",
      "100%|██████████| 1076/1076 [00:34<00:00, 31.63it/s]\n",
      "100%|██████████| 1130/1130 [00:33<00:00, 34.22it/s] \n",
      "100%|██████████| 1118/1118 [00:30<00:00, 36.43it/s] \n",
      "100%|██████████| 1059/1059 [00:31<00:00, 34.06it/s] \n",
      "100%|██████████| 1046/1046 [00:28<00:00, 36.32it/s] \n",
      "100%|██████████| 1032/1032 [00:29<00:00, 35.39it/s] \n",
      "100%|██████████| 1208/1208 [00:33<00:00, 35.70it/s] \n",
      "100%|██████████| 1264/1264 [00:34<00:00, 37.17it/s] \n",
      "100%|██████████| 1228/1228 [00:31<00:00, 38.83it/s] \n",
      "100%|██████████| 1168/1168 [00:33<00:00, 35.00it/s] \n",
      "100%|██████████| 1122/1122 [00:33<00:00, 33.86it/s] \n",
      "100%|██████████| 1065/1065 [00:33<00:00, 31.62it/s]\n",
      "100%|██████████| 1124/1124 [00:30<00:00, 36.46it/s] \n",
      "100%|██████████| 1150/1150 [00:32<00:00, 35.79it/s] \n",
      "100%|██████████| 1073/1073 [00:26<00:00, 39.88it/s] \n",
      "100%|██████████| 1124/1124 [00:30<00:00, 36.78it/s] \n",
      "100%|██████████| 1230/1230 [00:32<00:00, 37.84it/s] \n",
      "100%|██████████| 1010/1010 [00:38<00:00, 26.45it/s]\n",
      "100%|██████████| 1097/1097 [00:28<00:00, 38.05it/s] \n",
      "100%|██████████| 1061/1061 [00:27<00:00, 39.03it/s] \n",
      "100%|██████████| 1111/1111 [00:30<00:00, 36.82it/s] \n",
      "100%|██████████| 1108/1108 [00:29<00:00, 37.47it/s] \n",
      "100%|██████████| 1143/1143 [00:31<00:00, 35.81it/s] \n",
      "100%|██████████| 1040/1040 [00:32<00:00, 31.64it/s]\n",
      "100%|██████████| 1113/1113 [00:35<00:00, 30.98it/s] \n",
      "100%|██████████| 1133/1133 [00:31<00:00, 35.50it/s] \n",
      "100%|██████████| 1062/1062 [00:37<00:00, 28.60it/s]\n",
      "100%|██████████| 1164/1164 [00:30<00:00, 38.48it/s] \n",
      "100%|██████████| 1218/1218 [00:31<00:00, 38.70it/s] \n",
      "100%|██████████| 1077/1077 [00:29<00:00, 36.77it/s] \n",
      "100%|██████████| 1056/1056 [00:34<00:00, 30.60it/s]\n",
      "100%|██████████| 1071/1071 [00:29<00:00, 36.86it/s] \n",
      "100%|██████████| 1117/1117 [00:29<00:00, 38.18it/s] \n",
      "100%|██████████| 1202/1202 [00:34<00:00, 35.35it/s] \n",
      "100%|██████████| 1143/1143 [00:30<00:00, 37.45it/s] \n"
     ]
    }
   ],
   "source": [
    "forest_acv_sv = []\n",
    "for tree in forest_acv:\n",
    "    forest_acv_sv.append(tree.shap_values(exp.data_test, C=C))"
   ]
  },
  {
   "cell_type": "code",
   "execution_count": 174,
   "metadata": {},
   "outputs": [],
   "source": [
    "forest_acv_sv_array = np.array(forest_acv_sv)"
   ]
  },
  {
   "cell_type": "code",
   "execution_count": 175,
   "metadata": {},
   "outputs": [
    {
     "data": {
      "text/plain": [
       "(100, 10000, 7)"
      ]
     },
     "execution_count": 175,
     "metadata": {},
     "output_type": "execute_result"
    }
   ],
   "source": [
    "forest_acv_sv_array.shape"
   ]
  },
  {
   "cell_type": "code",
   "execution_count": 176,
   "metadata": {},
   "outputs": [],
   "source": [
    "# np.mean(forest_acv_sv_array[:, :, :], axis=0).shape"
   ]
  },
  {
   "cell_type": "code",
   "execution_count": 177,
   "metadata": {},
   "outputs": [],
   "source": [
    "# fig, ax = plt.subplots(2, 4, figsize=(10, 10))\n",
    "# ax_flatten = ax.flat"
   ]
  },
  {
   "cell_type": "code",
   "execution_count": 223,
   "metadata": {
    "scrolled": false
   },
   "outputs": [
    {
     "name": "stdout",
     "output_type": "stream",
     "text": [
      "[-0.47201937 -1.81487405 -0.89790529 -2.03067882  1.15161458  0.\n",
      "  1.        ]\n"
     ]
    }
   ],
   "source": [
    "idx = np.random.randint(0, 10000)\n",
    "print(exp.data_test[idx])\n",
    "\n",
    "var_dict = {}\n",
    "for i in range(d+2):\n",
    "\n",
    "#     plt.figure()\n",
    "#     plt.hist(forest_acv_sv_array[:, idx, i])\n",
    "#     plt.title('X{} - SV = {} - var = {} '.format(i, np.mean(forest_acv_sv_array[:, idx, i]), np.var(forest_acv_sv_array[:, idx, i])))\n",
    "    var_dict[str(i)] = np.var(forest_acv_sv_array[:, idx, i])"
   ]
  },
  {
   "cell_type": "code",
   "execution_count": 224,
   "metadata": {},
   "outputs": [
    {
     "name": "stdout",
     "output_type": "stream",
     "text": [
      "[0.         0.         0.         3.02350796 2.61759566]\n",
      "[ 0.          0.          0.         -6.42198109  2.62167406]\n",
      "[ 0.70101276 -2.98540261 -1.96617267  0.          0.        ]\n"
     ]
    }
   ],
   "source": [
    "print(coefs_a)\n",
    "print(coefs_b)\n",
    "print(coefs_c)"
   ]
  },
  {
   "cell_type": "code",
   "execution_count": 225,
   "metadata": {},
   "outputs": [
    {
     "name": "stdout",
     "output_type": "stream",
     "text": [
      "[-0.47201937 -1.81487405 -0.89790529 -2.03067882  1.15161458  0.\n",
      "  1.        ]\n"
     ]
    }
   ],
   "source": [
    "print(exp.data_test[idx])"
   ]
  },
  {
   "cell_type": "code",
   "execution_count": 226,
   "metadata": {},
   "outputs": [
    {
     "name": "stdout",
     "output_type": "stream",
     "text": [
      "{'1': 0.05890071211430919, '2': 0.09274102912830655, '0': 0.12273828926704454, '5': 2.0333923379736616, '6': 2.0333923379736616, '4': 3.445984026966243, '3': 3.7535767051464455}\n"
     ]
    }
   ],
   "source": [
    "dict1 = var_dict\n",
    "sorted_dict = {}\n",
    "sorted_keys = sorted(dict1, key=dict1.get)  # [1, 3, 2]\n",
    "\n",
    "for w in sorted_keys:\n",
    "    sorted_dict[w] = dict1[w]\n",
    "\n",
    "print(sorted_dict) # {1: 1, 3: 4, 2: 9}"
   ]
  },
  {
   "cell_type": "code",
   "execution_count": null,
   "metadata": {},
   "outputs": [],
   "source": []
  },
  {
   "cell_type": "code",
   "execution_count": null,
   "metadata": {},
   "outputs": [],
   "source": []
  },
  {
   "cell_type": "code",
   "execution_count": null,
   "metadata": {},
   "outputs": [],
   "source": []
  },
  {
   "cell_type": "code",
   "execution_count": null,
   "metadata": {},
   "outputs": [],
   "source": [
    "forest_acv_sv = []\n",
    "for tree in forest_acv:\n",
    "    forest_acv_sv.append(tree.shap_values(exp.data_test, C=C))"
   ]
  },
  {
   "cell_type": "code",
   "execution_count": null,
   "metadata": {},
   "outputs": [],
   "source": [
    "forest_acv_sv_array = np.array(forest_acv_sv)"
   ]
  },
  {
   "cell_type": "code",
   "execution_count": null,
   "metadata": {},
   "outputs": [],
   "source": [
    "forest_acv_sv_array.shape"
   ]
  },
  {
   "cell_type": "code",
   "execution_count": null,
   "metadata": {},
   "outputs": [],
   "source": [
    "np.mean(forest_acv_sv_array[:, :, :], axis=0).shape"
   ]
  },
  {
   "cell_type": "code",
   "execution_count": null,
   "metadata": {},
   "outputs": [],
   "source": []
  },
  {
   "cell_type": "code",
   "execution_count": null,
   "metadata": {
    "scrolled": false
   },
   "outputs": [],
   "source": [
    "idx = np.random.randint(0, 20000)\n",
    "print(exp.data_test[idx])\n",
    "# idx = 9000 - idx\n",
    "for i in range(d+2):\n",
    "    plt.figure()\n",
    "    plt.hist(forest_acv_sv_array[:, idx, i])\n",
    "    plt.title('X{} - SV = {} - var = {} '.format(i, np.mean(forest_acv_sv_array[:, idx, i]), np.var(forest_acv_sv_array[:, idx, i])))\n",
    "    "
   ]
  },
  {
   "cell_type": "code",
   "execution_count": null,
   "metadata": {},
   "outputs": [],
   "source": [
    "idx = 3\n",
    "for i in range(7):\n",
    "\n",
    "    print('var X{} = {}'.format(i, np.var(forest_acv_sv_array[:, idx, i])), end=' ')\n",
    "    print('mean X{} = {}'.format(i, np.mean(forest_acv_sv_array[:, idx, i])))\n",
    "    print(' ')"
   ]
  },
  {
   "cell_type": "code",
   "execution_count": null,
   "metadata": {},
   "outputs": [],
   "source": []
  }
 ],
 "metadata": {
  "kernelspec": {
   "display_name": "Python 3",
   "language": "python",
   "name": "python3"
  },
  "language_info": {
   "codemirror_mode": {
    "name": "ipython",
    "version": 3
   },
   "file_extension": ".py",
   "mimetype": "text/x-python",
   "name": "python",
   "nbconvert_exporter": "python",
   "pygments_lexer": "ipython3",
   "version": "3.8.5"
  }
 },
 "nbformat": 4,
 "nbformat_minor": 4
}
