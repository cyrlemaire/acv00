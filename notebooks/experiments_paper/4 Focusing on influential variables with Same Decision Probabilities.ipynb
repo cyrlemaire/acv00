{
 "cells": [
  {
   "cell_type": "code",
   "execution_count": 1,
   "id": "computational-concert",
   "metadata": {},
   "outputs": [],
   "source": [
    "import warnings\n",
    "warnings.filterwarnings('ignore')\n",
    "\n",
    "import acv_explainers\n",
    "from acv_explainers import ACVTree\n",
    "import shap\n",
    "\n",
    "import matplotlib.pyplot as plt\n",
    "from sklearn.preprocessing import OneHotEncoder\n",
    "from sklearn.model_selection import train_test_split\n",
    "from sklearn.ensemble import RandomForestClassifier\n",
    "from xgboost import XGBRFClassifier, XGBClassifier, XGBRegressor\n",
    "from sklearn.tree import DecisionTreeClassifier\n",
    "from sklearn.metrics import roc_auc_score\n",
    "from lightgbm import LGBMClassifier\n",
    "import random \n",
    "import time \n",
    "import numpy as np\n",
    "import pandas as pd\n",
    "import seaborn as sns\n",
    "from scipy.special import comb\n",
    "\n",
    "random.seed(2021)\n",
    "np.random.seed(2021)\n",
    "\n",
    "from experiments.exp_syn import *\n",
    "\n",
    "# Fixed the seed and plot env\n",
    "random.seed(1)\n",
    "np.random.seed(1)\n",
    "\n",
    "plt.style.use(['ggplot'])"
   ]
  },
  {
   "cell_type": "markdown",
   "id": "60f5f6a8",
   "metadata": {},
   "source": [
    "## Create synthetic dataset and train a RandomForest"
   ]
  },
  {
   "cell_type": "code",
   "execution_count": 2,
   "id": "illegal-profile",
   "metadata": {},
   "outputs": [
    {
     "name": "stdout",
     "output_type": "stream",
     "text": [
      "ROC on Test = 0.9034516469589279\n"
     ]
    }
   ],
   "source": [
    "p = 0.00\n",
    "n = 50000\n",
    "d = 8\n",
    "C = [[]]\n",
    "\n",
    "# mean \n",
    "mean = np.zeros(d)\n",
    "\n",
    "# Determinitist covariance\n",
    "cov = p*np.ones(shape=(d, d)) + 20*np.eye(d)\n",
    "\n",
    "# Random covariance\n",
    "# b = np.random.randn(d, d)\n",
    "# cov = np.dot(b, b.T)\n",
    "\n",
    "model_type = 'syn4'\n",
    "\n",
    "for i in range(21): # the loops is for the seed, to have the same results\n",
    "    coefs = 4*np.random.randn(d)\n",
    "    exp = ExperimentsLinear(mean=mean, cov=cov, n=n, C=C, data_type=model_type)\n",
    "    logit = exp.y_train[:, 1]\n",
    "    exp.y_train = np.argmax(exp.y_train, axis=1)\n",
    "    exp.y_test = np.argmax(exp.y_test, axis=1)\n",
    "    model = RandomForestClassifier(n_estimators=10, max_depth=d)\n",
    "    model.fit(exp.data, exp.y_train)\n",
    "print('ROC on Test = {}'.format(roc_auc_score(model.predict(exp.data_test), exp.y_test)))"
   ]
  },
  {
   "cell_type": "markdown",
   "id": "959fa9db",
   "metadata": {},
   "source": [
    "## Build ACVTree"
   ]
  },
  {
   "cell_type": "code",
   "execution_count": 3,
   "id": "comprehensive-infrared",
   "metadata": {},
   "outputs": [
    {
     "name": "stderr",
     "output_type": "stream",
     "text": [
      "100%|██████████| 10/10 [00:00<00:00, 41.36it/s]\n"
     ]
    }
   ],
   "source": [
    "acvtree = ACVTree(model, exp.data)"
   ]
  },
  {
   "cell_type": "code",
   "execution_count": 4,
   "id": "27b4ce27",
   "metadata": {},
   "outputs": [],
   "source": [
    "nb = 100\n",
    "X_samples = exp.data[:nb]\n",
    "y_samples = exp.y_train[:nb]"
   ]
  },
  {
   "cell_type": "markdown",
   "id": "40211dd2",
   "metadata": {},
   "source": [
    "## Compute the Active Sets  $S^\\star$ of X_samples"
   ]
  },
  {
   "cell_type": "code",
   "execution_count": 5,
   "id": "grateful-general",
   "metadata": {},
   "outputs": [
    {
     "name": "stderr",
     "output_type": "stream",
     "text": [
      " 38%|███▊      | 3/8 [22:38<37:44, 452.94s/it]\n"
     ]
    }
   ],
   "source": [
    "# We compute S^\\star with Monte Carlo estimator\n",
    "nb = 100\n",
    "X_samples = exp.data[:nb]\n",
    "sdp_global, sdp_index, len_sdp, sdp = importance_sdp_clf_true(X_samples, global_proba=0.9, tree=acvtree, mean=mean, cov=cov, N_samples=100000, minimal=1)"
   ]
  },
  {
   "cell_type": "code",
   "execution_count": 6,
   "id": "cdaa7320",
   "metadata": {},
   "outputs": [],
   "source": [
    "## Here, we can compute them with Leaf estimator\n",
    "# sdp_global_r, sdp_index_r, len_sdp_r, sdp_r = acvtree.importance_sdp_clf(X_samples, global_proba=0.9, minimal=1, data=exp.data)"
   ]
  },
  {
   "cell_type": "markdown",
   "id": "15c3e6de",
   "metadata": {},
   "source": [
    "## Compute SV with the different estimators and Active SV"
   ]
  },
  {
   "cell_type": "code",
   "execution_count": 7,
   "id": "bcc0311d",
   "metadata": {},
   "outputs": [
    {
     "name": "stderr",
     "output_type": "stream",
     "text": [
      "100%|██████████| 8/8 [08:48<00:00, 66.12s/it]\n"
     ]
    }
   ],
   "source": [
    "sv_exact_true = tree_sv_exact_true(X=X_samples, yX=y_samples, C=[[]], tree=acvtree, mean=mean, cov=cov, N=10000)"
   ]
  },
  {
   "cell_type": "code",
   "execution_count": 8,
   "id": "parallel-composer",
   "metadata": {},
   "outputs": [
    {
     "name": "stderr",
     "output_type": "stream",
     "text": [
      "100%|██████████| 8/8 [08:44<00:00, 65.54s/it]\n"
     ]
    }
   ],
   "source": [
    "sv_leaf = acvtree.py_shap_values_notoptimized(X_samples, exp.data)"
   ]
  },
  {
   "cell_type": "code",
   "execution_count": 9,
   "id": "scenic-router",
   "metadata": {},
   "outputs": [],
   "source": [
    "explainer_observational = shap.TreeExplainer(model, feature_perturbation='observational')\n",
    "sv_shap = explainer_observational.shap_values(X_samples)"
   ]
  },
  {
   "cell_type": "code",
   "execution_count": 10,
   "id": "funny-machine",
   "metadata": {},
   "outputs": [
    {
     "name": "stderr",
     "output_type": "stream",
     "text": [
      "100%|██████████| 8/8 [18:12<00:00, 136.54s/it]\n"
     ]
    }
   ],
   "source": [
    "sv_exact = tree_sv_exact(X=X_samples, C=[[]], tree=acvtree, mean=mean, cov=cov, N=10000)"
   ]
  },
  {
   "cell_type": "code",
   "execution_count": 11,
   "id": "643cd0c1",
   "metadata": {},
   "outputs": [
    {
     "name": "stderr",
     "output_type": "stream",
     "text": [
      "100%|██████████| 100/100 [00:17<00:00,  5.68it/s]\n"
     ]
    }
   ],
   "source": [
    "s_star_all, n_star_all = acv_explainers.utils.get_null_coalition(sdp_index, len_sdp)\n",
    "s_star_l, n_star_l = acv_explainers.utils.get_active_null_coalition_list(sdp_index, len_sdp)\n",
    "\n",
    "sv_acv_exact = tree_sv_acv(X_samples, tree=acvtree, S_star=s_star_l, N_star=n_star_l, mean=mean, cov=cov, N=10000)"
   ]
  },
  {
   "cell_type": "markdown",
   "id": "14b67561",
   "metadata": {},
   "source": [
    "## Examples used in 4. Focusing on influential variables with Same Decision Probabilities"
   ]
  },
  {
   "cell_type": "code",
   "execution_count": 12,
   "id": "e2a86d1b",
   "metadata": {},
   "outputs": [],
   "source": [
    "# a = np.random.randint(0, 100)\n",
    "a = 45"
   ]
  },
  {
   "cell_type": "code",
   "execution_count": 13,
   "id": "58044b5a",
   "metadata": {},
   "outputs": [
    {
     "name": "stdout",
     "output_type": "stream",
     "text": [
      "x = [-1.57996208 -4.15155403 -5.82807128 -5.90184745 -3.23170965  0.71162005\n",
      " -1.75919892 -1.27221698]\n"
     ]
    }
   ],
   "source": [
    "print('x = {}'.format(X_samples[a]))"
   ]
  },
  {
   "cell_type": "code",
   "execution_count": 14,
   "id": "49fc43d9",
   "metadata": {},
   "outputs": [
    {
     "name": "stdout",
     "output_type": "stream",
     "text": [
      "$S^\\star$ = [0, 1, 4]\n"
     ]
    }
   ],
   "source": [
    "print('$S^\\star$ = {}'.format(s_star_l[a]))"
   ]
  },
  {
   "cell_type": "code",
   "execution_count": 15,
   "id": "664e3eec",
   "metadata": {},
   "outputs": [
    {
     "name": "stdout",
     "output_type": "stream",
     "text": [
      "SDP of S^\\star = 0.95904\n"
     ]
    }
   ],
   "source": [
    "print('SDP of S^\\star = {}'.format(sdp[45]))"
   ]
  },
  {
   "cell_type": "code",
   "execution_count": 16,
   "id": "178e9274",
   "metadata": {},
   "outputs": [
    {
     "name": "stdout",
     "output_type": "stream",
     "text": [
      "sv of the generative model = [-2.07293214e-01 -2.04734762e-01 -4.08577381e-02 -4.28197619e-02\n",
      "  5.47619048e-06  5.45714286e-04 -6.83095238e-04  7.99523810e-04]\n"
     ]
    }
   ],
   "source": [
    "print('sv of the generative model = {}'.format(sv_exact_true[a, :, 1]))"
   ]
  },
  {
   "cell_type": "code",
   "execution_count": 17,
   "id": "004b267f",
   "metadata": {},
   "outputs": [
    {
     "name": "stdout",
     "output_type": "stream",
     "text": [
      "sv with leaf estimator= [-2.91481894 -3.86466664 -3.35362075 -3.53585874  0.90373176 -0.10657908\n",
      "  0.04346478 -0.24145652]\n"
     ]
    }
   ],
   "source": [
    "print('sv with leaf estimator= {}'.format(100*sv_leaf[a, :, 1]))"
   ]
  },
  {
   "cell_type": "code",
   "execution_count": 18,
   "id": "be5d8a51",
   "metadata": {},
   "outputs": [
    {
     "name": "stdout",
     "output_type": "stream",
     "text": [
      "sv tree shap estimator = [-2.94875784 -3.81203468 -3.34194448 -3.52361971  0.86986683 -0.13874777\n",
      "  0.04514599 -0.24564648]\n"
     ]
    }
   ],
   "source": [
    "print('sv tree shap estimator = {}'.format(100*sv_shap[1][a]))"
   ]
  },
  {
   "cell_type": "code",
   "execution_count": 19,
   "id": "0970a8b8",
   "metadata": {},
   "outputs": [
    {
     "name": "stdout",
     "output_type": "stream",
     "text": [
      "sv exact with monte carlo estimator = [-2.88630298 -3.85182425 -3.24036626 -3.4908592   0.88103758 -0.15895333\n",
      "  0.05437585 -0.22226488]\n"
     ]
    }
   ],
   "source": [
    "print('sv exact with monte carlo estimator = {}'.format(100*sv_exact[a, :, 1]))"
   ]
  },
  {
   "cell_type": "code",
   "execution_count": 20,
   "id": "89974137",
   "metadata": {},
   "outputs": [
    {
     "name": "stdout",
     "output_type": "stream",
     "text": [
      "active sv with monte carlo estimator = [-7.14368164 -7.35435343  0.          0.          1.3781321   0.\n",
      "  0.          0.        ]\n"
     ]
    }
   ],
   "source": [
    "print('active sv with monte carlo estimator = {}'.format(100*sv_acv_exact[a, :, 1]))"
   ]
  }
 ],
 "metadata": {
  "kernelspec": {
   "display_name": "Python 3",
   "language": "python",
   "name": "python3"
  },
  "language_info": {
   "codemirror_mode": {
    "name": "ipython",
    "version": 3
   },
   "file_extension": ".py",
   "mimetype": "text/x-python",
   "name": "python",
   "nbconvert_exporter": "python",
   "pygments_lexer": "ipython3",
   "version": "3.6.13"
  }
 },
 "nbformat": 4,
 "nbformat_minor": 5
}
