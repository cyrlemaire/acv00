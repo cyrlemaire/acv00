{
 "cells": [
  {
   "cell_type": "code",
   "execution_count": 1,
   "metadata": {},
   "outputs": [],
   "source": [
    "import warnings\n",
    "warnings.filterwarnings('ignore')\n",
    "\n",
    "import shap\n",
    "from acv_explainers import ACVTree\n",
    "from acv_explainers.utils import *\n",
    "from experiments.exp_linear_gmm import *\n",
    "\n",
    "import matplotlib.pyplot as plt\n",
    "from sklearn.preprocessing import OneHotEncoder\n",
    "from sklearn.model_selection import train_test_split\n",
    "from sklearn.ensemble import RandomForestClassifier\n",
    "from sklearn.tree import DecisionTreeClassifier\n",
    "from sklearn.metrics import roc_auc_score\n",
    "import seaborn as sns\n",
    "\n",
    "import random \n",
    "import numpy as np\n",
    "import pandas as pd\n",
    "\n",
    "random.seed(212)\n",
    "np.random.seed(212)"
   ]
  },
  {
   "cell_type": "code",
   "execution_count": 2,
   "metadata": {},
   "outputs": [],
   "source": [
    "import random \n",
    "# from sklearn.tree import DecisionTreeClassifier\n",
    "random.seed(212)\n",
    "np.random.seed(212)"
   ]
  },
  {
   "cell_type": "markdown",
   "metadata": {},
   "source": [
    "### Load data and model"
   ]
  },
  {
   "cell_type": "code",
   "execution_count": 4,
   "metadata": {},
   "outputs": [
    {
     "name": "stdout",
     "output_type": "stream",
     "text": [
      "[* TREE *]\n",
      "train acc = 0.9230919439227646 --- test acc = 0.9127666666666667\n",
      "[* FOREST *]\n",
      "train acc = 0.9230919439227646 --- test acc = 0.9127666666666667\n"
     ]
    }
   ],
   "source": [
    "X = pd.read_csv('/home/samoukou/Documents/ACV/data/lucas0_train.csv')\n",
    "X.head()\n",
    "\n",
    "y = X.Lung_cancer.values\n",
    "X.drop(['Lung_cancer'], axis=1, inplace=True)\n",
    "\n",
    "n_estimators = 1\n",
    "num_features = X.shape[1]\n",
    "\n",
    "# Split data\n",
    "X_train, X_test, y_train, y_test = train_test_split(X, y, test_size=0.2, random_state=21)\n",
    "\n",
    "# Model \n",
    "tree = DecisionTreeClassifier(min_samples_leaf=20, random_state=212)\n",
    "tree.fit(X_train, y_train)\n",
    "\n",
    "accuracy_train = roc_auc_score(y_train, tree.predict_proba(X_train)[:, 1])\n",
    "accuracy_test = roc_auc_score(y_test, tree.predict_proba(X_test)[:, 1])\n",
    "print('[* TREE *]')\n",
    "print('train acc = {} --- test acc = {}'.format(accuracy_train, accuracy_test))\n",
    "\n",
    "forest = RandomForestClassifier(n_estimators=n_estimators, min_samples_leaf=10, random_state=212)\n",
    "forest.fit(X_train, y_train)\n",
    "forest.estimators_[0] = tree\n",
    "\n",
    "accuracy_train = roc_auc_score(y_train, forest.predict_proba(X_train)[:, 1])\n",
    "accuracy_test = roc_auc_score(y_test, forest.predict_proba(X_test)[:, 1])\n",
    "print('[* FOREST *]')\n",
    "print('train acc = {} --- test acc = {}'.format(accuracy_train, accuracy_test))"
   ]
  },
  {
   "cell_type": "markdown",
   "metadata": {},
   "source": [
    "## Build ACVTree for explanations"
   ]
  },
  {
   "cell_type": "code",
   "execution_count": 5,
   "metadata": {},
   "outputs": [],
   "source": [
    "acvtree = ACVTree(forest, X_train.values)"
   ]
  },
  {
   "cell_type": "markdown",
   "metadata": {},
   "source": [
    "### Let's choose an observation to explain"
   ]
  },
  {
   "cell_type": "code",
   "execution_count": 6,
   "metadata": {},
   "outputs": [],
   "source": [
    "idx = np.random.randint(0, 400)\n",
    "# idx = 174\n",
    "ind = X_test.values[idx]\n",
    "y_ind = y_test[idx]\n",
    "fx = forest.predict(np.expand_dims(ind, 0))[0]"
   ]
  },
  {
   "cell_type": "code",
   "execution_count": 7,
   "metadata": {},
   "outputs": [],
   "source": [
    "# idx = np.random.randint(0, 400)\n",
    "# ind = X_test.values[idx]\n",
    "# y_ind = y_test[idx]\n",
    "# fx = forest.predict(np.expand_dims(ind, 0))[0]"
   ]
  },
  {
   "cell_type": "code",
   "execution_count": 8,
   "metadata": {},
   "outputs": [
    {
     "data": {
      "text/html": [
       "<div>\n",
       "<style scoped>\n",
       "    .dataframe tbody tr th:only-of-type {\n",
       "        vertical-align: middle;\n",
       "    }\n",
       "\n",
       "    .dataframe tbody tr th {\n",
       "        vertical-align: top;\n",
       "    }\n",
       "\n",
       "    .dataframe thead th {\n",
       "        text-align: right;\n",
       "    }\n",
       "</style>\n",
       "<table border=\"1\" class=\"dataframe\">\n",
       "  <thead>\n",
       "    <tr style=\"text-align: right;\">\n",
       "      <th></th>\n",
       "      <th>Smoking</th>\n",
       "      <th>Yellow_Fingers</th>\n",
       "      <th>Anxiety</th>\n",
       "      <th>Peer_Pressure</th>\n",
       "      <th>Genetics</th>\n",
       "      <th>Attention_Disorder</th>\n",
       "      <th>Born_an_Even_Day</th>\n",
       "      <th>Car_Accident</th>\n",
       "      <th>Fatigue</th>\n",
       "      <th>Allergy</th>\n",
       "      <th>Coughing</th>\n",
       "    </tr>\n",
       "  </thead>\n",
       "  <tbody>\n",
       "    <tr>\n",
       "      <th>1945</th>\n",
       "      <td>0</td>\n",
       "      <td>0</td>\n",
       "      <td>1</td>\n",
       "      <td>0</td>\n",
       "      <td>0</td>\n",
       "      <td>1</td>\n",
       "      <td>0</td>\n",
       "      <td>1</td>\n",
       "      <td>1</td>\n",
       "      <td>1</td>\n",
       "      <td>1</td>\n",
       "    </tr>\n",
       "  </tbody>\n",
       "</table>\n",
       "</div>"
      ],
      "text/plain": [
       "      Smoking  Yellow_Fingers  Anxiety  Peer_Pressure  Genetics  \\\n",
       "1945        0               0        1              0         0   \n",
       "\n",
       "      Attention_Disorder  Born_an_Even_Day  Car_Accident  Fatigue  Allergy  \\\n",
       "1945                   1                 0             1        1        1   \n",
       "\n",
       "      Coughing  \n",
       "1945         1  "
      ]
     },
     "execution_count": 8,
     "metadata": {},
     "output_type": "execute_result"
    }
   ],
   "source": [
    "X_test[idx:idx+1]"
   ]
  },
  {
   "cell_type": "code",
   "execution_count": 9,
   "metadata": {},
   "outputs": [
    {
     "name": "stdout",
     "output_type": "stream",
     "text": [
      "f(x) = 0, y_ind = 0\n"
     ]
    }
   ],
   "source": [
    "print('f(x) = {}, y_ind = {}'.format(fx, y_ind))"
   ]
  },
  {
   "cell_type": "code",
   "execution_count": 10,
   "metadata": {},
   "outputs": [],
   "source": [
    "from scipy.special import comb\n",
    "\n",
    "def powerset(iterable):\n",
    "    s = list(iterable)\n",
    "    return itertools.chain.from_iterable(itertools.combinations(s, r) for r in range(len(s) + 1))\n",
    "\n",
    "from scipy.special import comb\n",
    "\n",
    "def vote_exp_clf(x, fx, tx, pi, forest, S, data, algo=\"plugin\"):\n",
    "    if len(S) == 0:\n",
    "        return 0\n",
    "    sdp = cond_sdp_forest_clf(x, fx, tx, forest, S, data=data, algo=algo)\n",
    "    return int(sdp >= pi)\n",
    "\n",
    "\n",
    "def tree_shap_vote_clf(tree, x,  tx, fx, pi, algo, data=None, C=[[]]):\n",
    "    \"\"\"\n",
    "    Compute Classic Shapley values of a tree_classifier of x\n",
    "\n",
    "    Args:\n",
    "        tree (DecisionTreeClassifier):\n",
    "        x (array): observation\n",
    "        algo (string): name of the estimators, recommended 'plugin'\n",
    "        data (array): data used to compute the Shapley values\n",
    "        C (list[list]): list of the different coalition of variables by their index\n",
    "\n",
    "    Returns:\n",
    "        array: Shapley values of x\n",
    "    \"\"\"\n",
    "    m = len(x)\n",
    "    va_id = list(range(m))\n",
    "    va_id_buffer = va_id.copy()\n",
    "\n",
    "    if C[0] != []:\n",
    "        for c in C:\n",
    "            m -= len(c)\n",
    "            va_id = list(set(va_id) - set(c))\n",
    "        m += len(C)\n",
    "        for c in C:\n",
    "            va_id += [c]\n",
    "\n",
    "    phi = np.zeros(len(x))\n",
    "    \n",
    "    for i in va_id:\n",
    "        if C[0] != []:\n",
    "            Sm = list(set(va_id_buffer) - set(convert_list(i)))\n",
    "            for c in C:\n",
    "                if c != convert_list(i):\n",
    "                    Sm = list(set(Sm) - set(c))\n",
    "            for c in C:\n",
    "                if c != convert_list(i):\n",
    "                    Sm += [c]\n",
    "        else:\n",
    "            Sm = list(set(va_id_buffer) - set(convert_list(i)))\n",
    "\n",
    "        for S in tqdm(powerset(Sm)):\n",
    "            phi[chain_l(i)] +=\\\n",
    "                comb(m-1, len(S))**(-1)*(vote_exp_clf(x=x, fx=fx, tx=tx, pi=pi, forest=tree, S=chain_l(S)+convert_list(i), data=data, algo=algo) - \\\n",
    "                vote_exp_clf(x=x, fx=fx, tx=tx, pi=pi, forest=tree, S=chain_l(S), data=data, algo=algo))\n",
    "    return phi/m\n",
    "            \n",
    "#     for p in tqdm(itertools.permutations(va_id)):\n",
    "#         for i in range(m):\n",
    "#             phi[chain_l(p[i])] += \\\n",
    "#                 vote_exp(x=x, fx=fx, tx=tx, pi=pi, forest=tree, S=chain_l(p[:i+1]), data=data, algo=algo) - \\\n",
    "#                 vote_exp(x=x, fx=fx, tx=tx, pi=pi, forest=tree, S=chain_l(p[:i]), data=data, algo=algo)\n",
    "#     return phi / math.factorial(m)"
   ]
  },
  {
   "cell_type": "code",
   "execution_count": 11,
   "metadata": {},
   "outputs": [
    {
     "data": {
      "text/plain": [
       "array([[0.33333333, 0.33333333],\n",
       "       [0.        , 0.        ],\n",
       "       [0.        , 0.        ],\n",
       "       [0.        , 0.        ],\n",
       "       [0.33333333, 0.33333333],\n",
       "       [0.        , 0.        ],\n",
       "       [0.        , 0.        ],\n",
       "       [0.        , 0.        ],\n",
       "       [0.        , 0.        ],\n",
       "       [0.33333333, 0.33333333],\n",
       "       [0.        , 0.        ]])"
      ]
     },
     "execution_count": 11,
     "metadata": {},
     "output_type": "execute_result"
    }
   ],
   "source": [
    "pis = []\n",
    "sv, _, _ = acvtree.shap_values_swing_clf(x=ind, fx=fx, tx=0.5, threshold=0.95, data=X_train.values, C=[[]])\n",
    "sv"
   ]
  }
 ],
 "metadata": {
  "kernelspec": {
   "display_name": "Python 3",
   "language": "python",
   "name": "python3"
  },
  "language_info": {
   "codemirror_mode": {
    "name": "ipython",
    "version": 3
   },
   "file_extension": ".py",
   "mimetype": "text/x-python",
   "name": "python",
   "nbconvert_exporter": "python",
   "pygments_lexer": "ipython3",
   "version": "3.6.10"
  }
 },
 "nbformat": 4,
 "nbformat_minor": 4
}
